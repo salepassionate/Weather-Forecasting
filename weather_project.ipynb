{
 "cells": [
  {
   "cell_type": "markdown",
   "id": "30945839-74af-4793-991b-c876add7fffa",
   "metadata": {},
   "source": [
    "<h1 style=\"color:darkbluegrayslate; font-weight:bold\"> Weather forecasting project </h1>\n",
    "<p> weather forcasting is the prediction of what the atmosphere will be like in a particular place. It is the way of predicting things like cloud cover, rain,and snow. and In this project we are going to predict where it is going to rain tomorrow or not in australia by using machine learning algorithms. let's start the project. </p>\n",
    "<em style=\"color:blue;\">the dataset contain daily weather condition of australia and downloaded from kaggle.com platform. </em>"
   ]
  },
  {
   "cell_type": "markdown",
   "id": "882a4fd8-d631-49c0-aac8-4e7f8477bb93",
   "metadata": {},
   "source": [
    "<p> let's us import the neccessary libraries</p> \n",
    "<blockquote style=\"color:green\">\n",
    "    pandas is data alaysis and manipulation tools \n",
    "    we use pandas to read comma-separated file,manipulate and get information about the dataset\n",
    "</blockquote>"
   ]
  },
  {
   "cell_type": "code",
   "execution_count": 3,
   "id": "04f511cc-32ad-441a-b912-cc4fe8db72d4",
   "metadata": {},
   "outputs": [],
   "source": [
    " import pandas as pd"
   ]
  },
  {
   "cell_type": "markdown",
   "id": "7758bd57-e3f5-4d47-a853-61562a711950",
   "metadata": {},
   "source": [
    "<h2 style=\"color:orange\"> Load the dataset into pandas DataFrame <h2>"
   ]
  },
  {
   "cell_type": "code",
   "execution_count": 4,
   "id": "b45f8c9f-5651-4d66-b283-b8d54e4eb552",
   "metadata": {},
   "outputs": [],
   "source": [
    "data = pd.read_csv('AUSWeather.csv')\n",
    "weather_data = data.copy() "
   ]
  },
  {
   "cell_type": "markdown",
   "id": "0c8051f5-c48a-4140-97f0-2ed13ac2ffed",
   "metadata": {},
   "source": [
    "<h2>let us get to know to the dataset </h2>"
   ]
  },
  {
   "cell_type": "markdown",
   "id": "f5899ad4-0381-498b-b735-fd227aed0079",
   "metadata": {},
   "source": [
    " <h3 style=\"color:orange\">1) Dataset dimension </h3>"
   ]
  },
  {
   "cell_type": "code",
   "execution_count": 5,
   "id": "185befcf-18c8-4a37-bd12-29d82b572127",
   "metadata": {},
   "outputs": [
    {
     "data": {
      "text/plain": [
       "(7861, 24)"
      ]
     },
     "execution_count": 5,
     "metadata": {},
     "output_type": "execute_result"
    }
   ],
   "source": [
    "weather_data.shape"
   ]
  },
  {
   "cell_type": "markdown",
   "id": "2f6b6551-7fe3-4e88-9c21-58e641fa857c",
   "metadata": {},
   "source": [
    "<h3 style=\"color:orange\">2)  Dataset top 5 rows </h3>"
   ]
  },
  {
   "cell_type": "code",
   "execution_count": 6,
   "id": "36e7b43f-54ae-474c-86c3-231ef44507f6",
   "metadata": {},
   "outputs": [
    {
     "data": {
      "text/html": [
       "<div>\n",
       "<style scoped>\n",
       "    .dataframe tbody tr th:only-of-type {\n",
       "        vertical-align: middle;\n",
       "    }\n",
       "\n",
       "    .dataframe tbody tr th {\n",
       "        vertical-align: top;\n",
       "    }\n",
       "\n",
       "    .dataframe thead th {\n",
       "        text-align: right;\n",
       "    }\n",
       "</style>\n",
       "<table border=\"1\" class=\"dataframe\">\n",
       "  <thead>\n",
       "    <tr style=\"text-align: right;\">\n",
       "      <th></th>\n",
       "      <th>Date</th>\n",
       "      <th>Location</th>\n",
       "      <th>MinTemp</th>\n",
       "      <th>MaxTemp</th>\n",
       "      <th>Rainfall</th>\n",
       "      <th>Evaporation</th>\n",
       "      <th>Sunshine</th>\n",
       "      <th>WindGustDir</th>\n",
       "      <th>WindGustSpeed</th>\n",
       "      <th>WindDir9am</th>\n",
       "      <th>...</th>\n",
       "      <th>Humidity3pm</th>\n",
       "      <th>Pressure9am</th>\n",
       "      <th>Pressure3pm</th>\n",
       "      <th>Cloud9am</th>\n",
       "      <th>Cloud3pm</th>\n",
       "      <th>Temp9am</th>\n",
       "      <th>Temp3pm</th>\n",
       "      <th>RainToday</th>\n",
       "      <th>RainTomorrow</th>\n",
       "      <th>Weather</th>\n",
       "    </tr>\n",
       "  </thead>\n",
       "  <tbody>\n",
       "    <tr>\n",
       "      <th>0</th>\n",
       "      <td>12/1/2008</td>\n",
       "      <td>Albury</td>\n",
       "      <td>13.4</td>\n",
       "      <td>22.9</td>\n",
       "      <td>0.6</td>\n",
       "      <td>NaN</td>\n",
       "      <td>NaN</td>\n",
       "      <td>W</td>\n",
       "      <td>44.0</td>\n",
       "      <td>W</td>\n",
       "      <td>...</td>\n",
       "      <td>22.0</td>\n",
       "      <td>1007.7</td>\n",
       "      <td>1007.1</td>\n",
       "      <td>8.0</td>\n",
       "      <td>NaN</td>\n",
       "      <td>16.9</td>\n",
       "      <td>21.8</td>\n",
       "      <td>No</td>\n",
       "      <td>No</td>\n",
       "      <td>Fog</td>\n",
       "    </tr>\n",
       "    <tr>\n",
       "      <th>1</th>\n",
       "      <td>12/2/2008</td>\n",
       "      <td>Albury</td>\n",
       "      <td>7.4</td>\n",
       "      <td>25.1</td>\n",
       "      <td>0.0</td>\n",
       "      <td>NaN</td>\n",
       "      <td>NaN</td>\n",
       "      <td>WNW</td>\n",
       "      <td>44.0</td>\n",
       "      <td>NNW</td>\n",
       "      <td>...</td>\n",
       "      <td>25.0</td>\n",
       "      <td>1010.6</td>\n",
       "      <td>1007.8</td>\n",
       "      <td>NaN</td>\n",
       "      <td>NaN</td>\n",
       "      <td>17.2</td>\n",
       "      <td>24.3</td>\n",
       "      <td>No</td>\n",
       "      <td>No</td>\n",
       "      <td>Fog</td>\n",
       "    </tr>\n",
       "    <tr>\n",
       "      <th>2</th>\n",
       "      <td>12/3/2008</td>\n",
       "      <td>Albury</td>\n",
       "      <td>12.9</td>\n",
       "      <td>25.7</td>\n",
       "      <td>0.0</td>\n",
       "      <td>NaN</td>\n",
       "      <td>NaN</td>\n",
       "      <td>WSW</td>\n",
       "      <td>46.0</td>\n",
       "      <td>W</td>\n",
       "      <td>...</td>\n",
       "      <td>30.0</td>\n",
       "      <td>1007.6</td>\n",
       "      <td>1008.7</td>\n",
       "      <td>NaN</td>\n",
       "      <td>2.0</td>\n",
       "      <td>21.0</td>\n",
       "      <td>23.2</td>\n",
       "      <td>No</td>\n",
       "      <td>No</td>\n",
       "      <td>Freezing Drizzle,Fog</td>\n",
       "    </tr>\n",
       "    <tr>\n",
       "      <th>3</th>\n",
       "      <td>12/4/2008</td>\n",
       "      <td>Albury</td>\n",
       "      <td>9.2</td>\n",
       "      <td>28.0</td>\n",
       "      <td>0.0</td>\n",
       "      <td>NaN</td>\n",
       "      <td>NaN</td>\n",
       "      <td>NE</td>\n",
       "      <td>24.0</td>\n",
       "      <td>SE</td>\n",
       "      <td>...</td>\n",
       "      <td>16.0</td>\n",
       "      <td>1017.6</td>\n",
       "      <td>1012.8</td>\n",
       "      <td>NaN</td>\n",
       "      <td>NaN</td>\n",
       "      <td>18.1</td>\n",
       "      <td>26.5</td>\n",
       "      <td>No</td>\n",
       "      <td>No</td>\n",
       "      <td>Freezing Drizzle,Fog</td>\n",
       "    </tr>\n",
       "    <tr>\n",
       "      <th>4</th>\n",
       "      <td>12/5/2008</td>\n",
       "      <td>Albury</td>\n",
       "      <td>17.5</td>\n",
       "      <td>32.3</td>\n",
       "      <td>1.0</td>\n",
       "      <td>NaN</td>\n",
       "      <td>NaN</td>\n",
       "      <td>W</td>\n",
       "      <td>41.0</td>\n",
       "      <td>ENE</td>\n",
       "      <td>...</td>\n",
       "      <td>33.0</td>\n",
       "      <td>1010.8</td>\n",
       "      <td>1006.0</td>\n",
       "      <td>7.0</td>\n",
       "      <td>8.0</td>\n",
       "      <td>17.8</td>\n",
       "      <td>29.7</td>\n",
       "      <td>No</td>\n",
       "      <td>No</td>\n",
       "      <td>Fog</td>\n",
       "    </tr>\n",
       "  </tbody>\n",
       "</table>\n",
       "<p>5 rows × 24 columns</p>\n",
       "</div>"
      ],
      "text/plain": [
       "        Date Location  MinTemp  MaxTemp  Rainfall  Evaporation  Sunshine  \\\n",
       "0  12/1/2008   Albury     13.4     22.9       0.6          NaN       NaN   \n",
       "1  12/2/2008   Albury      7.4     25.1       0.0          NaN       NaN   \n",
       "2  12/3/2008   Albury     12.9     25.7       0.0          NaN       NaN   \n",
       "3  12/4/2008   Albury      9.2     28.0       0.0          NaN       NaN   \n",
       "4  12/5/2008   Albury     17.5     32.3       1.0          NaN       NaN   \n",
       "\n",
       "  WindGustDir  WindGustSpeed WindDir9am  ... Humidity3pm  Pressure9am  \\\n",
       "0           W           44.0          W  ...        22.0       1007.7   \n",
       "1         WNW           44.0        NNW  ...        25.0       1010.6   \n",
       "2         WSW           46.0          W  ...        30.0       1007.6   \n",
       "3          NE           24.0         SE  ...        16.0       1017.6   \n",
       "4           W           41.0        ENE  ...        33.0       1010.8   \n",
       "\n",
       "   Pressure3pm  Cloud9am  Cloud3pm  Temp9am  Temp3pm  RainToday  RainTomorrow  \\\n",
       "0       1007.1       8.0       NaN     16.9     21.8         No            No   \n",
       "1       1007.8       NaN       NaN     17.2     24.3         No            No   \n",
       "2       1008.7       NaN       2.0     21.0     23.2         No            No   \n",
       "3       1012.8       NaN       NaN     18.1     26.5         No            No   \n",
       "4       1006.0       7.0       8.0     17.8     29.7         No            No   \n",
       "\n",
       "                Weather  \n",
       "0                   Fog  \n",
       "1                   Fog  \n",
       "2  Freezing Drizzle,Fog  \n",
       "3  Freezing Drizzle,Fog  \n",
       "4                   Fog  \n",
       "\n",
       "[5 rows x 24 columns]"
      ]
     },
     "execution_count": 6,
     "metadata": {},
     "output_type": "execute_result"
    }
   ],
   "source": [
    "weather_data.head()"
   ]
  },
  {
   "cell_type": "markdown",
   "id": "f9cc5784-4b07-4880-9921-2d749dc3814f",
   "metadata": {},
   "source": [
    "<h3 style=\"color:orange\">3)  More information about the dataset </h3>"
   ]
  },
  {
   "cell_type": "code",
   "execution_count": 7,
   "id": "24649581-a757-43ff-9a54-31b261a010e7",
   "metadata": {},
   "outputs": [
    {
     "name": "stdout",
     "output_type": "stream",
     "text": [
      "<class 'pandas.core.frame.DataFrame'>\n",
      "RangeIndex: 7861 entries, 0 to 7860\n",
      "Data columns (total 24 columns):\n",
      " #   Column         Non-Null Count  Dtype  \n",
      "---  ------         --------------  -----  \n",
      " 0   Date           7861 non-null   object \n",
      " 1   Location       7861 non-null   object \n",
      " 2   MinTemp        7814 non-null   float64\n",
      " 3   MaxTemp        7821 non-null   float64\n",
      " 4   Rainfall       7745 non-null   float64\n",
      " 5   Evaporation    1750 non-null   float64\n",
      " 6   Sunshine       550 non-null    float64\n",
      " 7   WindGustDir    7731 non-null   object \n",
      " 8   WindGustSpeed  7731 non-null   float64\n",
      " 9   WindDir9am     6891 non-null   object \n",
      " 10  WindDir3pm     7727 non-null   object \n",
      " 11  WindSpeed9am   7798 non-null   float64\n",
      " 12  WindSpeed3pm   7800 non-null   float64\n",
      " 13  Humidity9am    7794 non-null   float64\n",
      " 14  Humidity3pm    7796 non-null   float64\n",
      " 15  Pressure9am    7680 non-null   float64\n",
      " 16  Pressure3pm    7675 non-null   float64\n",
      " 17  Cloud9am       3041 non-null   float64\n",
      " 18  Cloud3pm       3181 non-null   float64\n",
      " 19  Temp9am        7808 non-null   float64\n",
      " 20  Temp3pm        7807 non-null   float64\n",
      " 21  RainToday      7745 non-null   object \n",
      " 22  RainTomorrow   7745 non-null   object \n",
      " 23  Weather        7861 non-null   object \n",
      "dtypes: float64(16), object(8)\n",
      "memory usage: 1.4+ MB\n"
     ]
    }
   ],
   "source": [
    "weather_data.info()"
   ]
  },
  {
   "cell_type": "markdown",
   "id": "d5ef7b6c-f4f4-4f50-829a-138253f3ea5c",
   "metadata": {},
   "source": [
    "<h3 style=\"color:orange\"> 4)  List of all the datatypes and their columns  </h3>"
   ]
  },
  {
   "cell_type": "code",
   "execution_count": 100,
   "id": "ca1e91ce-1208-43c1-bcf1-bad0099a37ba",
   "metadata": {},
   "outputs": [
    {
     "data": {
      "text/plain": [
       "Date              object\n",
       "Location          object\n",
       "MinTemp          float64\n",
       "MaxTemp          float64\n",
       "Rainfall         float64\n",
       "Evaporation      float64\n",
       "Sunshine         float64\n",
       "WindGustDir       object\n",
       "WindGustSpeed    float64\n",
       "WindDir9am        object\n",
       "WindDir3pm        object\n",
       "WindSpeed9am     float64\n",
       "WindSpeed3pm     float64\n",
       "Humidity9am      float64\n",
       "Humidity3pm      float64\n",
       "Pressure9am      float64\n",
       "Pressure3pm      float64\n",
       "Cloud9am         float64\n",
       "Cloud3pm         float64\n",
       "Temp9am          float64\n",
       "Temp3pm          float64\n",
       "RainToday         object\n",
       "RainTomorrow      object\n",
       "Weather           object\n",
       "dtype: object"
      ]
     },
     "execution_count": 100,
     "metadata": {},
     "output_type": "execute_result"
    }
   ],
   "source": [
    "weather_data.dtypes"
   ]
  },
  {
   "cell_type": "code",
   "execution_count": 101,
   "id": "0c31a7b1-e346-4f43-a29b-18f77ba17fd4",
   "metadata": {},
   "outputs": [
    {
     "data": {
      "text/plain": [
       "Index(['Date', 'Location', 'MinTemp', 'MaxTemp', 'Rainfall', 'Evaporation',\n",
       "       'Sunshine', 'WindGustDir', 'WindGustSpeed', 'WindDir9am', 'WindDir3pm',\n",
       "       'WindSpeed9am', 'WindSpeed3pm', 'Humidity9am', 'Humidity3pm',\n",
       "       'Pressure9am', 'Pressure3pm', 'Cloud9am', 'Cloud3pm', 'Temp9am',\n",
       "       'Temp3pm', 'RainToday', 'RainTomorrow', 'Weather'],\n",
       "      dtype='object')"
      ]
     },
     "execution_count": 101,
     "metadata": {},
     "output_type": "execute_result"
    }
   ],
   "source": [
    "weather_data.columns"
   ]
  },
  {
   "cell_type": "markdown",
   "id": "41d6008a-efde-4319-b0cb-80ba828df1c3",
   "metadata": {},
   "source": [
    "<h1 style=\"font-weight:bold\"> Data preprocessing task </h1>"
   ]
  },
  {
   "cell_type": "markdown",
   "id": "c79b7076-4e33-48e0-9890-57194ac0d81b",
   "metadata": {},
   "source": [
    "<h2> task 1: cleaning the dataset </h2>\n",
    "<p> some machine learning algorithms turn out to be errors if there is missing values in the dataset. so handling missing vaue in very crucial\n",
    "steps before we apply algorithms in the dataset. \n",
    "<em> we can handle missing values in three different ways: </em>\n",
    "<ul> \n",
    "    <li> Interpolation: estimating missing values based on existing data points </li>\n",
    "    <li> Dropping missing values: </li>\n",
    "    <li> Imputation: use mean, mode, and median in order to fill the missing values </li>\n",
    "  In this project, we use intepolation and impulation. \n",
    "</ul>"
   ]
  },
  {
   "cell_type": "markdown",
   "id": "89cfc47b-4578-4cc6-af35-2a437b067bd6",
   "metadata": {},
   "source": [
    "<h3 style=\"color:orange\"> 1) identify missing values </h3>"
   ]
  },
  {
   "cell_type": "code",
   "execution_count": 102,
   "id": "4ae7b2e0-c2a0-48eb-bae0-9cea3de5bbdd",
   "metadata": {},
   "outputs": [
    {
     "data": {
      "text/plain": [
       "Date                0\n",
       "Location            0\n",
       "MinTemp            47\n",
       "MaxTemp            40\n",
       "Rainfall          116\n",
       "Evaporation      6111\n",
       "Sunshine         7311\n",
       "WindGustDir       130\n",
       "WindGustSpeed     130\n",
       "WindDir9am        970\n",
       "WindDir3pm        134\n",
       "WindSpeed9am       63\n",
       "WindSpeed3pm       61\n",
       "Humidity9am        67\n",
       "Humidity3pm        65\n",
       "Pressure9am       181\n",
       "Pressure3pm       186\n",
       "Cloud9am         4820\n",
       "Cloud3pm         4680\n",
       "Temp9am            53\n",
       "Temp3pm            54\n",
       "RainToday         116\n",
       "RainTomorrow      116\n",
       "Weather             0\n",
       "dtype: int64"
      ]
     },
     "execution_count": 102,
     "metadata": {},
     "output_type": "execute_result"
    }
   ],
   "source": [
    "weather_data.isnull().sum()"
   ]
  },
  {
   "cell_type": "markdown",
   "id": "6263a087-da42-4593-90ce-be6ea1ca14d8",
   "metadata": {},
   "source": [
    "<h3 style=\"color:orange\"> 2) handle missing values </h3>"
   ]
  },
  {
   "cell_type": "code",
   "execution_count": 8,
   "id": "80296758-a06c-4b71-b334-fdfb43e6ebfb",
   "metadata": {},
   "outputs": [
    {
     "name": "stderr",
     "output_type": "stream",
     "text": [
      "C:\\Users\\GBU\\AppData\\Local\\Temp\\ipykernel_10164\\634569999.py:1: FutureWarning: DataFrame.interpolate with object dtype is deprecated and will raise in a future version. Call obj.infer_objects(copy=False) before interpolating instead.\n",
      "  weather_data = weather_data.interpolate()\n"
     ]
    }
   ],
   "source": [
    "weather_data = weather_data.interpolate()"
   ]
  },
  {
   "cell_type": "markdown",
   "id": "441d60d8-a17d-4f94-a750-0af5721eda7c",
   "metadata": {},
   "source": [
    "<h3 style=\"color:orange\"> 3) verify if there are missing values </h3>"
   ]
  },
  {
   "cell_type": "code",
   "execution_count": 106,
   "id": "93ff8046-d93b-42e4-bd57-8ab7d7f07600",
   "metadata": {},
   "outputs": [
    {
     "data": {
      "text/plain": [
       "Date                0\n",
       "Location            0\n",
       "MinTemp             0\n",
       "MaxTemp             0\n",
       "Rainfall            0\n",
       "Evaporation      6049\n",
       "Sunshine         6049\n",
       "WindGustDir       130\n",
       "WindGustSpeed       0\n",
       "WindDir9am        970\n",
       "WindDir3pm        134\n",
       "WindSpeed9am        0\n",
       "WindSpeed3pm        0\n",
       "Humidity9am         0\n",
       "Humidity3pm         0\n",
       "Pressure9am         0\n",
       "Pressure3pm         0\n",
       "Cloud9am            0\n",
       "Cloud3pm            2\n",
       "Temp9am             0\n",
       "Temp3pm             0\n",
       "RainToday         116\n",
       "RainTomorrow      116\n",
       "Weather             0\n",
       "dtype: int64"
      ]
     },
     "execution_count": 106,
     "metadata": {},
     "output_type": "execute_result"
    }
   ],
   "source": [
    "weather_data.isnull().sum()"
   ]
  },
  {
   "cell_type": "markdown",
   "id": "6077722f-02c0-4137-8d5c-2d3d83b64050",
   "metadata": {},
   "source": [
    "<blockquote style=\"color:blue\">\n",
    "    as we observe from above, there is still missing values in columns that have object data type.\n",
    "    so, we can handle these with imputation \n",
    "</blockquote>"
   ]
  },
  {
   "cell_type": "code",
   "execution_count": 9,
   "id": "ea009836-14f3-4c11-a172-f3927b967867",
   "metadata": {},
   "outputs": [],
   "source": [
    "missing_category_feature = weather_data.select_dtypes(include='object').isnull().sum() \n",
    "for key in missing_category_feature.index: \n",
    "     weather_data[key].fillna(weather_data[key].mode()[0], inplace=True) "
   ]
  },
  {
   "cell_type": "markdown",
   "id": "6eadee44-0ce0-40a2-93dd-1d2bc9a58005",
   "metadata": {},
   "source": [
    "<h3 style=\"color:orange\"> 4) verify if there are missing values </h3>"
   ]
  },
  {
   "cell_type": "code",
   "execution_count": 110,
   "id": "ac570e41-9c10-40e0-8522-720c8042e692",
   "metadata": {},
   "outputs": [
    {
     "data": {
      "text/plain": [
       "Date                0\n",
       "Location            0\n",
       "MinTemp             0\n",
       "MaxTemp             0\n",
       "Rainfall            0\n",
       "Evaporation      6049\n",
       "Sunshine         6049\n",
       "WindGustDir         0\n",
       "WindGustSpeed       0\n",
       "WindDir9am          0\n",
       "WindDir3pm          0\n",
       "WindSpeed9am        0\n",
       "WindSpeed3pm        0\n",
       "Humidity9am         0\n",
       "Humidity3pm         0\n",
       "Pressure9am         0\n",
       "Pressure3pm         0\n",
       "Cloud9am            0\n",
       "Cloud3pm            2\n",
       "Temp9am             0\n",
       "Temp3pm             0\n",
       "RainToday           0\n",
       "RainTomorrow        0\n",
       "Weather             0\n",
       "dtype: int64"
      ]
     },
     "execution_count": 110,
     "metadata": {},
     "output_type": "execute_result"
    }
   ],
   "source": [
    "weather_data.isnull().sum()"
   ]
  },
  {
   "cell_type": "markdown",
   "id": "8194b8ff-5f12-4723-a4d1-98282b37188d",
   "metadata": {},
   "source": [
    "<blockquote style=\"color:blue\">\n",
    "    as we observe from above, there is still missing values in some columns such as sunshine,Evaporation, and cloud3pm.\n",
    "    so, we can handle these with imputation again \n",
    "</blockquote>"
   ]
  },
  {
   "cell_type": "code",
   "execution_count": 10,
   "id": "0ccc374d-f223-4a60-a78e-6a0780503281",
   "metadata": {},
   "outputs": [],
   "source": [
    "weather_data['Sunshine'].fillna(weather_data['Sunshine'].mode()[0],inplace=True) \n",
    "weather_data['Evaporation'].fillna(weather_data['Evaporation'].mode()[0], inplace=True) \n",
    "weather_data['Cloud3pm'].fillna(weather_data['Cloud3pm'].mode()[0], inplace=True)"
   ]
  },
  {
   "cell_type": "markdown",
   "id": "3e963120-b92a-4009-827f-18347589776c",
   "metadata": {},
   "source": [
    "<h3 style=\"color:orange\"> 5) verify if there are missing values again </h3>"
   ]
  },
  {
   "cell_type": "code",
   "execution_count": 11,
   "id": "09a55711-e0e9-4035-b69e-391a06adf0c8",
   "metadata": {},
   "outputs": [
    {
     "data": {
      "text/plain": [
       "Date             0\n",
       "Location         0\n",
       "MinTemp          0\n",
       "MaxTemp          0\n",
       "Rainfall         0\n",
       "Evaporation      0\n",
       "Sunshine         0\n",
       "WindGustDir      0\n",
       "WindGustSpeed    0\n",
       "WindDir9am       0\n",
       "WindDir3pm       0\n",
       "WindSpeed9am     0\n",
       "WindSpeed3pm     0\n",
       "Humidity9am      0\n",
       "Humidity3pm      0\n",
       "Pressure9am      0\n",
       "Pressure3pm      0\n",
       "Cloud9am         0\n",
       "Cloud3pm         0\n",
       "Temp9am          0\n",
       "Temp3pm          0\n",
       "RainToday        0\n",
       "RainTomorrow     0\n",
       "Weather          0\n",
       "dtype: int64"
      ]
     },
     "execution_count": 11,
     "metadata": {},
     "output_type": "execute_result"
    }
   ],
   "source": [
    "weather_data.isnull().sum()"
   ]
  },
  {
   "cell_type": "markdown",
   "id": "bcace363-792c-4e18-92cc-1bdbc0ebcf2a",
   "metadata": {},
   "source": [
    "<h2 style=\"color:green\"> Now, The dataset is cleaned </h2> "
   ]
  },
  {
   "cell_type": "markdown",
   "id": "5b8756d4-2107-46e7-b961-ca41bb340f87",
   "metadata": {},
   "source": [
    "<h1> Task 2: Remove duplicates </h1> "
   ]
  },
  {
   "cell_type": "code",
   "execution_count": 12,
   "id": "10992b65-d96c-42a4-9c00-3c075501191c",
   "metadata": {},
   "outputs": [],
   "source": [
    "unique_weather_data = weather_data.drop_duplicates()"
   ]
  },
  {
   "cell_type": "markdown",
   "id": "2f446c85-9129-4180-b4ca-7370c0821612",
   "metadata": {},
   "source": [
    "<h1> Task 3: handling outliers  </h1> \n",
    "<blockquote style=\"color:orange\"> outlier is a data object that deviates significantly from the rest of the data objects and behaves in a different manner. they can their way into a dataset naturally through variability, or they can be the result of issues like human error, faulty equipment, or poor sampling. Regardless of how they get into the data, outliers can have a big impact on statistical analysis and machine learning because they impact calculations like mean and standard deviation, and they can skew hypothesis tests\n",
    "\n",
    "</blockquote> "
   ]
  },
  {
   "cell_type": "markdown",
   "id": "f45667cc-627f-4949-a27c-0d49e2c5014d",
   "metadata": {},
   "source": [
    "<h3> 1) Identify outliers </h3>"
   ]
  },
  {
   "cell_type": "code",
   "execution_count": 13,
   "id": "63f18d6b-e19c-4100-89c4-0425883d52da",
   "metadata": {},
   "outputs": [
    {
     "data": {
      "text/html": [
       "<div>\n",
       "<style scoped>\n",
       "    .dataframe tbody tr th:only-of-type {\n",
       "        vertical-align: middle;\n",
       "    }\n",
       "\n",
       "    .dataframe tbody tr th {\n",
       "        vertical-align: top;\n",
       "    }\n",
       "\n",
       "    .dataframe thead th {\n",
       "        text-align: right;\n",
       "    }\n",
       "</style>\n",
       "<table border=\"1\" class=\"dataframe\">\n",
       "  <thead>\n",
       "    <tr style=\"text-align: right;\">\n",
       "      <th></th>\n",
       "      <th>MinTemp</th>\n",
       "      <th>MaxTemp</th>\n",
       "      <th>Rainfall</th>\n",
       "      <th>Evaporation</th>\n",
       "      <th>Sunshine</th>\n",
       "      <th>WindGustSpeed</th>\n",
       "      <th>WindSpeed9am</th>\n",
       "      <th>WindSpeed3pm</th>\n",
       "      <th>Humidity9am</th>\n",
       "      <th>Humidity3pm</th>\n",
       "      <th>Pressure9am</th>\n",
       "      <th>Pressure3pm</th>\n",
       "      <th>Cloud9am</th>\n",
       "      <th>Cloud3pm</th>\n",
       "      <th>Temp9am</th>\n",
       "      <th>Temp3pm</th>\n",
       "    </tr>\n",
       "  </thead>\n",
       "  <tbody>\n",
       "    <tr>\n",
       "      <th>count</th>\n",
       "      <td>7861.000000</td>\n",
       "      <td>7861.000000</td>\n",
       "      <td>7861.000000</td>\n",
       "      <td>7861.000000</td>\n",
       "      <td>7861.000000</td>\n",
       "      <td>7861.000000</td>\n",
       "      <td>7861.000000</td>\n",
       "      <td>7861.000000</td>\n",
       "      <td>7861.000000</td>\n",
       "      <td>7861.000000</td>\n",
       "      <td>7861.000000</td>\n",
       "      <td>7861.000000</td>\n",
       "      <td>7861.000000</td>\n",
       "      <td>7861.000000</td>\n",
       "      <td>7861.000000</td>\n",
       "      <td>7861.000000</td>\n",
       "    </tr>\n",
       "    <tr>\n",
       "      <th>mean</th>\n",
       "      <td>10.962651</td>\n",
       "      <td>23.916474</td>\n",
       "      <td>1.847933</td>\n",
       "      <td>3.310050</td>\n",
       "      <td>4.244975</td>\n",
       "      <td>34.103231</td>\n",
       "      <td>9.516347</td>\n",
       "      <td>14.325277</td>\n",
       "      <td>70.747424</td>\n",
       "      <td>45.987343</td>\n",
       "      <td>1018.226460</td>\n",
       "      <td>1015.582712</td>\n",
       "      <td>4.762880</td>\n",
       "      <td>5.330810</td>\n",
       "      <td>16.067046</td>\n",
       "      <td>22.523197</td>\n",
       "    </tr>\n",
       "    <tr>\n",
       "      <th>std</th>\n",
       "      <td>6.193246</td>\n",
       "      <td>7.255932</td>\n",
       "      <td>6.377073</td>\n",
       "      <td>3.453797</td>\n",
       "      <td>1.574157</td>\n",
       "      <td>12.634145</td>\n",
       "      <td>7.038859</td>\n",
       "      <td>7.130776</td>\n",
       "      <td>20.137527</td>\n",
       "      <td>20.582419</td>\n",
       "      <td>6.942729</td>\n",
       "      <td>6.807965</td>\n",
       "      <td>2.433305</td>\n",
       "      <td>2.375726</td>\n",
       "      <td>6.119531</td>\n",
       "      <td>7.028660</td>\n",
       "    </tr>\n",
       "    <tr>\n",
       "      <th>min</th>\n",
       "      <td>-3.000000</td>\n",
       "      <td>6.800000</td>\n",
       "      <td>0.000000</td>\n",
       "      <td>0.000000</td>\n",
       "      <td>0.000000</td>\n",
       "      <td>7.000000</td>\n",
       "      <td>0.000000</td>\n",
       "      <td>0.000000</td>\n",
       "      <td>6.000000</td>\n",
       "      <td>1.000000</td>\n",
       "      <td>989.800000</td>\n",
       "      <td>982.900000</td>\n",
       "      <td>0.000000</td>\n",
       "      <td>0.000000</td>\n",
       "      <td>0.300000</td>\n",
       "      <td>6.400000</td>\n",
       "    </tr>\n",
       "    <tr>\n",
       "      <th>25%</th>\n",
       "      <td>6.000000</td>\n",
       "      <td>18.100000</td>\n",
       "      <td>0.000000</td>\n",
       "      <td>2.200000</td>\n",
       "      <td>3.900000</td>\n",
       "      <td>26.000000</td>\n",
       "      <td>4.000000</td>\n",
       "      <td>9.000000</td>\n",
       "      <td>57.000000</td>\n",
       "      <td>31.000000</td>\n",
       "      <td>1013.500000</td>\n",
       "      <td>1010.800000</td>\n",
       "      <td>2.901993</td>\n",
       "      <td>4.000000</td>\n",
       "      <td>11.300000</td>\n",
       "      <td>16.900000</td>\n",
       "    </tr>\n",
       "    <tr>\n",
       "      <th>50%</th>\n",
       "      <td>10.700000</td>\n",
       "      <td>23.400000</td>\n",
       "      <td>0.000000</td>\n",
       "      <td>2.200000</td>\n",
       "      <td>3.900000</td>\n",
       "      <td>33.000000</td>\n",
       "      <td>7.500000</td>\n",
       "      <td>13.000000</td>\n",
       "      <td>73.000000</td>\n",
       "      <td>45.000000</td>\n",
       "      <td>1018.200000</td>\n",
       "      <td>1015.600000</td>\n",
       "      <td>5.000000</td>\n",
       "      <td>6.000000</td>\n",
       "      <td>16.100000</td>\n",
       "      <td>21.900000</td>\n",
       "    </tr>\n",
       "    <tr>\n",
       "      <th>75%</th>\n",
       "      <td>15.950000</td>\n",
       "      <td>29.200000</td>\n",
       "      <td>0.200000</td>\n",
       "      <td>2.200000</td>\n",
       "      <td>3.900000</td>\n",
       "      <td>41.000000</td>\n",
       "      <td>13.000000</td>\n",
       "      <td>19.000000</td>\n",
       "      <td>86.000000</td>\n",
       "      <td>58.000000</td>\n",
       "      <td>1022.900000</td>\n",
       "      <td>1020.100000</td>\n",
       "      <td>7.000000</td>\n",
       "      <td>7.118937</td>\n",
       "      <td>20.500000</td>\n",
       "      <td>27.600000</td>\n",
       "    </tr>\n",
       "    <tr>\n",
       "      <th>max</th>\n",
       "      <td>29.400000</td>\n",
       "      <td>46.400000</td>\n",
       "      <td>116.000000</td>\n",
       "      <td>64.800000</td>\n",
       "      <td>13.700000</td>\n",
       "      <td>107.000000</td>\n",
       "      <td>48.000000</td>\n",
       "      <td>56.000000</td>\n",
       "      <td>100.000000</td>\n",
       "      <td>100.000000</td>\n",
       "      <td>1039.900000</td>\n",
       "      <td>1036.800000</td>\n",
       "      <td>8.000000</td>\n",
       "      <td>8.000000</td>\n",
       "      <td>37.700000</td>\n",
       "      <td>44.800000</td>\n",
       "    </tr>\n",
       "  </tbody>\n",
       "</table>\n",
       "</div>"
      ],
      "text/plain": [
       "           MinTemp      MaxTemp     Rainfall  Evaporation     Sunshine  \\\n",
       "count  7861.000000  7861.000000  7861.000000  7861.000000  7861.000000   \n",
       "mean     10.962651    23.916474     1.847933     3.310050     4.244975   \n",
       "std       6.193246     7.255932     6.377073     3.453797     1.574157   \n",
       "min      -3.000000     6.800000     0.000000     0.000000     0.000000   \n",
       "25%       6.000000    18.100000     0.000000     2.200000     3.900000   \n",
       "50%      10.700000    23.400000     0.000000     2.200000     3.900000   \n",
       "75%      15.950000    29.200000     0.200000     2.200000     3.900000   \n",
       "max      29.400000    46.400000   116.000000    64.800000    13.700000   \n",
       "\n",
       "       WindGustSpeed  WindSpeed9am  WindSpeed3pm  Humidity9am  Humidity3pm  \\\n",
       "count    7861.000000   7861.000000   7861.000000  7861.000000  7861.000000   \n",
       "mean       34.103231      9.516347     14.325277    70.747424    45.987343   \n",
       "std        12.634145      7.038859      7.130776    20.137527    20.582419   \n",
       "min         7.000000      0.000000      0.000000     6.000000     1.000000   \n",
       "25%        26.000000      4.000000      9.000000    57.000000    31.000000   \n",
       "50%        33.000000      7.500000     13.000000    73.000000    45.000000   \n",
       "75%        41.000000     13.000000     19.000000    86.000000    58.000000   \n",
       "max       107.000000     48.000000     56.000000   100.000000   100.000000   \n",
       "\n",
       "       Pressure9am  Pressure3pm     Cloud9am     Cloud3pm      Temp9am  \\\n",
       "count  7861.000000  7861.000000  7861.000000  7861.000000  7861.000000   \n",
       "mean   1018.226460  1015.582712     4.762880     5.330810    16.067046   \n",
       "std       6.942729     6.807965     2.433305     2.375726     6.119531   \n",
       "min     989.800000   982.900000     0.000000     0.000000     0.300000   \n",
       "25%    1013.500000  1010.800000     2.901993     4.000000    11.300000   \n",
       "50%    1018.200000  1015.600000     5.000000     6.000000    16.100000   \n",
       "75%    1022.900000  1020.100000     7.000000     7.118937    20.500000   \n",
       "max    1039.900000  1036.800000     8.000000     8.000000    37.700000   \n",
       "\n",
       "           Temp3pm  \n",
       "count  7861.000000  \n",
       "mean     22.523197  \n",
       "std       7.028660  \n",
       "min       6.400000  \n",
       "25%      16.900000  \n",
       "50%      21.900000  \n",
       "75%      27.600000  \n",
       "max      44.800000  "
      ]
     },
     "execution_count": 13,
     "metadata": {},
     "output_type": "execute_result"
    }
   ],
   "source": [
    "unique_weather_data.describe()"
   ]
  },
  {
   "cell_type": "markdown",
   "id": "a42b775b-6d67-4a32-a2ef-5312977f696c",
   "metadata": {},
   "source": [
    "<blockquote style=\"color:orange\">we can see that there is outlier in columns Rainfall,Evaportation. because there is a huge gap between mean value and max value.\n",
    "</blockquote/> "
   ]
  },
  {
   "cell_type": "code",
   "execution_count": 122,
   "id": "501751dd-05b5-4e7d-9ff4-53f056fa53d5",
   "metadata": {},
   "outputs": [
    {
     "data": {
      "text/plain": [
       "<Axes: >"
      ]
     },
     "execution_count": 122,
     "metadata": {},
     "output_type": "execute_result"
    },
    {
     "data": {
      "image/png": "[encoded data removed]",
      "text/plain": [
       "<Figure size 640x480 with 1 Axes>"
      ]
     },
     "metadata": {},
     "output_type": "display_data"
    }
   ],
   "source": [
    "# the visualize Evaporation to see the autlier \n",
    "unique_weather_data['Evaporation'].plot(kind='box')"
   ]
  },
  {
   "cell_type": "code",
   "execution_count": 121,
   "id": "876ca073-f8be-422f-8c49-78213ff8ca9e",
   "metadata": {},
   "outputs": [
    {
     "data": {
      "text/plain": [
       "<Axes: >"
      ]
     },
     "execution_count": 121,
     "metadata": {},
     "output_type": "execute_result"
    },
    {
     "data": {
      "image/png": "[encoded data removed]",
      "text/plain": [
       "<Figure size 640x480 with 1 Axes>"
      ]
     },
     "metadata": {},
     "output_type": "display_data"
    }
   ],
   "source": [
    "# # the visualize Rainfall to see the autlier \n",
    "unique_weather_data['Rainfall'].plot(kind='box')"
   ]
  },
  {
   "cell_type": "code",
   "execution_count": 123,
   "id": "746508f6-37fa-4938-8dee-173fe089d311",
   "metadata": {},
   "outputs": [
    {
     "data": {
      "text/plain": [
       "<Axes: ylabel='Frequency'>"
      ]
     },
     "execution_count": 123,
     "metadata": {},
     "output_type": "execute_result"
    },
    {
     "data": {
      "image/png": "[encoded data removed]",
      "text/plain": [
       "<Figure size 640x480 with 1 Axes>"
      ]
     },
     "metadata": {},
     "output_type": "display_data"
    }
   ],
   "source": [
    "# the visualize Evaporation distribution\n",
    "unique_weather_data['Evaporation'].plot(kind='hist')"
   ]
  },
  {
   "cell_type": "code",
   "execution_count": 124,
   "id": "26bb3719-ede0-4532-be32-f82ed6566104",
   "metadata": {},
   "outputs": [
    {
     "data": {
      "text/plain": [
       "<Axes: ylabel='Frequency'>"
      ]
     },
     "execution_count": 124,
     "metadata": {},
     "output_type": "execute_result"
    },
    {
     "data": {
      "image/png": "[encoded data removed]",
      "text/plain": [
       "<Figure size 640x480 with 1 Axes>"
      ]
     },
     "metadata": {},
     "output_type": "display_data"
    }
   ],
   "source": [
    "# the visualize the Rainfall distribution\n",
    "unique_weather_data['Rainfall'].plot(kind='hist')"
   ]
  },
  {
   "cell_type": "markdown",
   "id": "665fce99-d822-4955-bcc0-4a9c49f8d849",
   "metadata": {},
   "source": [
    "<h1 style=\"\"> Task 4: check correlation among the features  </h1>\n",
    "<blockquote style=\"color:orange\"> It measures the extent to which two variables are linearly related \n",
    "   <ul>\n",
    "      <li> 1 = there is a perfect linear relationship between the variables  </li>\n",
    "      <li> 0 = there is no linear relationship between the variables </li>\n",
    "      <li> -1 = there is a perfect negative linear relationship between the variables </li> \n",
    "   </ul> \n",
    "</blockquote>"
   ]
  },
  {
   "cell_type": "code",
   "execution_count": 14,
   "id": "ecff8895-4d3f-42ec-870e-6a2ff53ed000",
   "metadata": {},
   "outputs": [
    {
     "data": {
      "text/html": [
       "<div>\n",
       "<style scoped>\n",
       "    .dataframe tbody tr th:only-of-type {\n",
       "        vertical-align: middle;\n",
       "    }\n",
       "\n",
       "    .dataframe tbody tr th {\n",
       "        vertical-align: top;\n",
       "    }\n",
       "\n",
       "    .dataframe thead th {\n",
       "        text-align: right;\n",
       "    }\n",
       "</style>\n",
       "<table border=\"1\" class=\"dataframe\">\n",
       "  <thead>\n",
       "    <tr style=\"text-align: right;\">\n",
       "      <th></th>\n",
       "      <th>MinTemp</th>\n",
       "      <th>MaxTemp</th>\n",
       "      <th>Rainfall</th>\n",
       "      <th>Evaporation</th>\n",
       "      <th>Sunshine</th>\n",
       "      <th>WindGustSpeed</th>\n",
       "      <th>WindSpeed9am</th>\n",
       "      <th>WindSpeed3pm</th>\n",
       "      <th>Humidity9am</th>\n",
       "      <th>Humidity3pm</th>\n",
       "      <th>Pressure9am</th>\n",
       "      <th>Pressure3pm</th>\n",
       "      <th>Cloud9am</th>\n",
       "      <th>Cloud3pm</th>\n",
       "      <th>Temp9am</th>\n",
       "      <th>Temp3pm</th>\n",
       "    </tr>\n",
       "  </thead>\n",
       "  <tbody>\n",
       "    <tr>\n",
       "      <th>MinTemp</th>\n",
       "      <td>1.000000</td>\n",
       "      <td>0.780319</td>\n",
       "      <td>0.119797</td>\n",
       "      <td>0.358540</td>\n",
       "      <td>0.126289</td>\n",
       "      <td>0.333418</td>\n",
       "      <td>0.273530</td>\n",
       "      <td>0.153117</td>\n",
       "      <td>-0.357917</td>\n",
       "      <td>-0.163036</td>\n",
       "      <td>-0.511143</td>\n",
       "      <td>-0.502367</td>\n",
       "      <td>-0.133215</td>\n",
       "      <td>-0.029600</td>\n",
       "      <td>0.916212</td>\n",
       "      <td>0.747779</td>\n",
       "    </tr>\n",
       "    <tr>\n",
       "      <th>MaxTemp</th>\n",
       "      <td>0.780319</td>\n",
       "      <td>1.000000</td>\n",
       "      <td>-0.100955</td>\n",
       "      <td>0.352988</td>\n",
       "      <td>0.150183</td>\n",
       "      <td>0.266097</td>\n",
       "      <td>0.070700</td>\n",
       "      <td>0.094485</td>\n",
       "      <td>-0.533583</td>\n",
       "      <td>-0.582929</td>\n",
       "      <td>-0.381287</td>\n",
       "      <td>-0.451978</td>\n",
       "      <td>-0.255296</td>\n",
       "      <td>-0.176476</td>\n",
       "      <td>0.906141</td>\n",
       "      <td>0.984392</td>\n",
       "    </tr>\n",
       "    <tr>\n",
       "      <th>Rainfall</th>\n",
       "      <td>0.119797</td>\n",
       "      <td>-0.100955</td>\n",
       "      <td>1.000000</td>\n",
       "      <td>-0.071994</td>\n",
       "      <td>-0.062101</td>\n",
       "      <td>0.111497</td>\n",
       "      <td>0.109842</td>\n",
       "      <td>0.064442</td>\n",
       "      <td>0.232048</td>\n",
       "      <td>0.291887</td>\n",
       "      <td>-0.190811</td>\n",
       "      <td>-0.138701</td>\n",
       "      <td>0.120149</td>\n",
       "      <td>0.116968</td>\n",
       "      <td>0.002311</td>\n",
       "      <td>-0.106029</td>\n",
       "    </tr>\n",
       "    <tr>\n",
       "      <th>Evaporation</th>\n",
       "      <td>0.358540</td>\n",
       "      <td>0.352988</td>\n",
       "      <td>-0.071994</td>\n",
       "      <td>1.000000</td>\n",
       "      <td>0.290465</td>\n",
       "      <td>0.176824</td>\n",
       "      <td>0.312348</td>\n",
       "      <td>0.054798</td>\n",
       "      <td>-0.483207</td>\n",
       "      <td>-0.354868</td>\n",
       "      <td>-0.160678</td>\n",
       "      <td>-0.165765</td>\n",
       "      <td>-0.287236</td>\n",
       "      <td>-0.256174</td>\n",
       "      <td>0.373499</td>\n",
       "      <td>0.347361</td>\n",
       "    </tr>\n",
       "    <tr>\n",
       "      <th>Sunshine</th>\n",
       "      <td>0.126289</td>\n",
       "      <td>0.150183</td>\n",
       "      <td>-0.062101</td>\n",
       "      <td>0.290465</td>\n",
       "      <td>1.000000</td>\n",
       "      <td>0.027319</td>\n",
       "      <td>0.122298</td>\n",
       "      <td>-0.038188</td>\n",
       "      <td>-0.268447</td>\n",
       "      <td>-0.244036</td>\n",
       "      <td>-0.009334</td>\n",
       "      <td>-0.014128</td>\n",
       "      <td>-0.304644</td>\n",
       "      <td>-0.285589</td>\n",
       "      <td>0.146276</td>\n",
       "      <td>0.160157</td>\n",
       "    </tr>\n",
       "    <tr>\n",
       "      <th>WindGustSpeed</th>\n",
       "      <td>0.333418</td>\n",
       "      <td>0.266097</td>\n",
       "      <td>0.111497</td>\n",
       "      <td>0.176824</td>\n",
       "      <td>0.027319</td>\n",
       "      <td>1.000000</td>\n",
       "      <td>0.470839</td>\n",
       "      <td>0.667452</td>\n",
       "      <td>-0.343601</td>\n",
       "      <td>-0.191047</td>\n",
       "      <td>-0.556268</td>\n",
       "      <td>-0.532175</td>\n",
       "      <td>-0.018310</td>\n",
       "      <td>0.016584</td>\n",
       "      <td>0.347180</td>\n",
       "      <td>0.224691</td>\n",
       "    </tr>\n",
       "    <tr>\n",
       "      <th>WindSpeed9am</th>\n",
       "      <td>0.273530</td>\n",
       "      <td>0.070700</td>\n",
       "      <td>0.109842</td>\n",
       "      <td>0.312348</td>\n",
       "      <td>0.122298</td>\n",
       "      <td>0.470839</td>\n",
       "      <td>1.000000</td>\n",
       "      <td>0.368260</td>\n",
       "      <td>-0.436609</td>\n",
       "      <td>-0.141234</td>\n",
       "      <td>-0.272327</td>\n",
       "      <td>-0.202926</td>\n",
       "      <td>-0.110857</td>\n",
       "      <td>-0.085120</td>\n",
       "      <td>0.228360</td>\n",
       "      <td>0.050943</td>\n",
       "    </tr>\n",
       "    <tr>\n",
       "      <th>WindSpeed3pm</th>\n",
       "      <td>0.153117</td>\n",
       "      <td>0.094485</td>\n",
       "      <td>0.064442</td>\n",
       "      <td>0.054798</td>\n",
       "      <td>-0.038188</td>\n",
       "      <td>0.667452</td>\n",
       "      <td>0.368260</td>\n",
       "      <td>1.000000</td>\n",
       "      <td>-0.229176</td>\n",
       "      <td>-0.159489</td>\n",
       "      <td>-0.428246</td>\n",
       "      <td>-0.388317</td>\n",
       "      <td>0.031501</td>\n",
       "      <td>0.014382</td>\n",
       "      <td>0.166538</td>\n",
       "      <td>0.071270</td>\n",
       "    </tr>\n",
       "    <tr>\n",
       "      <th>Humidity9am</th>\n",
       "      <td>-0.357917</td>\n",
       "      <td>-0.533583</td>\n",
       "      <td>0.232048</td>\n",
       "      <td>-0.483207</td>\n",
       "      <td>-0.268447</td>\n",
       "      <td>-0.343601</td>\n",
       "      <td>-0.436609</td>\n",
       "      <td>-0.229176</td>\n",
       "      <td>1.000000</td>\n",
       "      <td>0.724430</td>\n",
       "      <td>0.235969</td>\n",
       "      <td>0.247926</td>\n",
       "      <td>0.357620</td>\n",
       "      <td>0.346838</td>\n",
       "      <td>-0.555742</td>\n",
       "      <td>-0.527533</td>\n",
       "    </tr>\n",
       "    <tr>\n",
       "      <th>Humidity3pm</th>\n",
       "      <td>-0.163036</td>\n",
       "      <td>-0.582929</td>\n",
       "      <td>0.291887</td>\n",
       "      <td>-0.354868</td>\n",
       "      <td>-0.244036</td>\n",
       "      <td>-0.191047</td>\n",
       "      <td>-0.141234</td>\n",
       "      <td>-0.159489</td>\n",
       "      <td>0.724430</td>\n",
       "      <td>1.000000</td>\n",
       "      <td>0.094314</td>\n",
       "      <td>0.156023</td>\n",
       "      <td>0.347019</td>\n",
       "      <td>0.418069</td>\n",
       "      <td>-0.382066</td>\n",
       "      <td>-0.632528</td>\n",
       "    </tr>\n",
       "    <tr>\n",
       "      <th>Pressure9am</th>\n",
       "      <td>-0.511143</td>\n",
       "      <td>-0.381287</td>\n",
       "      <td>-0.190811</td>\n",
       "      <td>-0.160678</td>\n",
       "      <td>-0.009334</td>\n",
       "      <td>-0.556268</td>\n",
       "      <td>-0.272327</td>\n",
       "      <td>-0.428246</td>\n",
       "      <td>0.235969</td>\n",
       "      <td>0.094314</td>\n",
       "      <td>1.000000</td>\n",
       "      <td>0.961308</td>\n",
       "      <td>-0.015597</td>\n",
       "      <td>-0.060106</td>\n",
       "      <td>-0.483050</td>\n",
       "      <td>-0.340961</td>\n",
       "    </tr>\n",
       "    <tr>\n",
       "      <th>Pressure3pm</th>\n",
       "      <td>-0.502367</td>\n",
       "      <td>-0.451978</td>\n",
       "      <td>-0.138701</td>\n",
       "      <td>-0.165765</td>\n",
       "      <td>-0.014128</td>\n",
       "      <td>-0.532175</td>\n",
       "      <td>-0.202926</td>\n",
       "      <td>-0.388317</td>\n",
       "      <td>0.247926</td>\n",
       "      <td>0.156023</td>\n",
       "      <td>0.961308</td>\n",
       "      <td>1.000000</td>\n",
       "      <td>0.002500</td>\n",
       "      <td>-0.045576</td>\n",
       "      <td>-0.504421</td>\n",
       "      <td>-0.421216</td>\n",
       "    </tr>\n",
       "    <tr>\n",
       "      <th>Cloud9am</th>\n",
       "      <td>-0.133215</td>\n",
       "      <td>-0.255296</td>\n",
       "      <td>0.120149</td>\n",
       "      <td>-0.287236</td>\n",
       "      <td>-0.304644</td>\n",
       "      <td>-0.018310</td>\n",
       "      <td>-0.110857</td>\n",
       "      <td>0.031501</td>\n",
       "      <td>0.357620</td>\n",
       "      <td>0.347019</td>\n",
       "      <td>-0.015597</td>\n",
       "      <td>0.002500</td>\n",
       "      <td>1.000000</td>\n",
       "      <td>0.420429</td>\n",
       "      <td>-0.239464</td>\n",
       "      <td>-0.257119</td>\n",
       "    </tr>\n",
       "    <tr>\n",
       "      <th>Cloud3pm</th>\n",
       "      <td>-0.029600</td>\n",
       "      <td>-0.176476</td>\n",
       "      <td>0.116968</td>\n",
       "      <td>-0.256174</td>\n",
       "      <td>-0.285589</td>\n",
       "      <td>0.016584</td>\n",
       "      <td>-0.085120</td>\n",
       "      <td>0.014382</td>\n",
       "      <td>0.346838</td>\n",
       "      <td>0.418069</td>\n",
       "      <td>-0.060106</td>\n",
       "      <td>-0.045576</td>\n",
       "      <td>0.420429</td>\n",
       "      <td>1.000000</td>\n",
       "      <td>-0.093514</td>\n",
       "      <td>-0.201797</td>\n",
       "    </tr>\n",
       "    <tr>\n",
       "      <th>Temp9am</th>\n",
       "      <td>0.916212</td>\n",
       "      <td>0.906141</td>\n",
       "      <td>0.002311</td>\n",
       "      <td>0.373499</td>\n",
       "      <td>0.146276</td>\n",
       "      <td>0.347180</td>\n",
       "      <td>0.228360</td>\n",
       "      <td>0.166538</td>\n",
       "      <td>-0.555742</td>\n",
       "      <td>-0.382066</td>\n",
       "      <td>-0.483050</td>\n",
       "      <td>-0.504421</td>\n",
       "      <td>-0.239464</td>\n",
       "      <td>-0.093514</td>\n",
       "      <td>1.000000</td>\n",
       "      <td>0.876680</td>\n",
       "    </tr>\n",
       "    <tr>\n",
       "      <th>Temp3pm</th>\n",
       "      <td>0.747779</td>\n",
       "      <td>0.984392</td>\n",
       "      <td>-0.106029</td>\n",
       "      <td>0.347361</td>\n",
       "      <td>0.160157</td>\n",
       "      <td>0.224691</td>\n",
       "      <td>0.050943</td>\n",
       "      <td>0.071270</td>\n",
       "      <td>-0.527533</td>\n",
       "      <td>-0.632528</td>\n",
       "      <td>-0.340961</td>\n",
       "      <td>-0.421216</td>\n",
       "      <td>-0.257119</td>\n",
       "      <td>-0.201797</td>\n",
       "      <td>0.876680</td>\n",
       "      <td>1.000000</td>\n",
       "    </tr>\n",
       "  </tbody>\n",
       "</table>\n",
       "</div>"
      ],
      "text/plain": [
       "                MinTemp   MaxTemp  Rainfall  Evaporation  Sunshine  \\\n",
       "MinTemp        1.000000  0.780319  0.119797     0.358540  0.126289   \n",
       "MaxTemp        0.780319  1.000000 -0.100955     0.352988  0.150183   \n",
       "Rainfall       0.119797 -0.100955  1.000000    -0.071994 -0.062101   \n",
       "Evaporation    0.358540  0.352988 -0.071994     1.000000  0.290465   \n",
       "Sunshine       0.126289  0.150183 -0.062101     0.290465  1.000000   \n",
       "WindGustSpeed  0.333418  0.266097  0.111497     0.176824  0.027319   \n",
       "WindSpeed9am   0.273530  0.070700  0.109842     0.312348  0.122298   \n",
       "WindSpeed3pm   0.153117  0.094485  0.064442     0.054798 -0.038188   \n",
       "Humidity9am   -0.357917 -0.533583  0.232048    -0.483207 -0.268447   \n",
       "Humidity3pm   -0.163036 -0.582929  0.291887    -0.354868 -0.244036   \n",
       "Pressure9am   -0.511143 -0.381287 -0.190811    -0.160678 -0.009334   \n",
       "Pressure3pm   -0.502367 -0.451978 -0.138701    -0.165765 -0.014128   \n",
       "Cloud9am      -0.133215 -0.255296  0.120149    -0.287236 -0.304644   \n",
       "Cloud3pm      -0.029600 -0.176476  0.116968    -0.256174 -0.285589   \n",
       "Temp9am        0.916212  0.906141  0.002311     0.373499  0.146276   \n",
       "Temp3pm        0.747779  0.984392 -0.106029     0.347361  0.160157   \n",
       "\n",
       "               WindGustSpeed  WindSpeed9am  WindSpeed3pm  Humidity9am  \\\n",
       "MinTemp             0.333418      0.273530      0.153117    -0.357917   \n",
       "MaxTemp             0.266097      0.070700      0.094485    -0.533583   \n",
       "Rainfall            0.111497      0.109842      0.064442     0.232048   \n",
       "Evaporation         0.176824      0.312348      0.054798    -0.483207   \n",
       "Sunshine            0.027319      0.122298     -0.038188    -0.268447   \n",
       "WindGustSpeed       1.000000      0.470839      0.667452    -0.343601   \n",
       "WindSpeed9am        0.470839      1.000000      0.368260    -0.436609   \n",
       "WindSpeed3pm        0.667452      0.368260      1.000000    -0.229176   \n",
       "Humidity9am        -0.343601     -0.436609     -0.229176     1.000000   \n",
       "Humidity3pm        -0.191047     -0.141234     -0.159489     0.724430   \n",
       "Pressure9am        -0.556268     -0.272327     -0.428246     0.235969   \n",
       "Pressure3pm        -0.532175     -0.202926     -0.388317     0.247926   \n",
       "Cloud9am           -0.018310     -0.110857      0.031501     0.357620   \n",
       "Cloud3pm            0.016584     -0.085120      0.014382     0.346838   \n",
       "Temp9am             0.347180      0.228360      0.166538    -0.555742   \n",
       "Temp3pm             0.224691      0.050943      0.071270    -0.527533   \n",
       "\n",
       "               Humidity3pm  Pressure9am  Pressure3pm  Cloud9am  Cloud3pm  \\\n",
       "MinTemp          -0.163036    -0.511143    -0.502367 -0.133215 -0.029600   \n",
       "MaxTemp          -0.582929    -0.381287    -0.451978 -0.255296 -0.176476   \n",
       "Rainfall          0.291887    -0.190811    -0.138701  0.120149  0.116968   \n",
       "Evaporation      -0.354868    -0.160678    -0.165765 -0.287236 -0.256174   \n",
       "Sunshine         -0.244036    -0.009334    -0.014128 -0.304644 -0.285589   \n",
       "WindGustSpeed    -0.191047    -0.556268    -0.532175 -0.018310  0.016584   \n",
       "WindSpeed9am     -0.141234    -0.272327    -0.202926 -0.110857 -0.085120   \n",
       "WindSpeed3pm     -0.159489    -0.428246    -0.388317  0.031501  0.014382   \n",
       "Humidity9am       0.724430     0.235969     0.247926  0.357620  0.346838   \n",
       "Humidity3pm       1.000000     0.094314     0.156023  0.347019  0.418069   \n",
       "Pressure9am       0.094314     1.000000     0.961308 -0.015597 -0.060106   \n",
       "Pressure3pm       0.156023     0.961308     1.000000  0.002500 -0.045576   \n",
       "Cloud9am          0.347019    -0.015597     0.002500  1.000000  0.420429   \n",
       "Cloud3pm          0.418069    -0.060106    -0.045576  0.420429  1.000000   \n",
       "Temp9am          -0.382066    -0.483050    -0.504421 -0.239464 -0.093514   \n",
       "Temp3pm          -0.632528    -0.340961    -0.421216 -0.257119 -0.201797   \n",
       "\n",
       "                Temp9am   Temp3pm  \n",
       "MinTemp        0.916212  0.747779  \n",
       "MaxTemp        0.906141  0.984392  \n",
       "Rainfall       0.002311 -0.106029  \n",
       "Evaporation    0.373499  0.347361  \n",
       "Sunshine       0.146276  0.160157  \n",
       "WindGustSpeed  0.347180  0.224691  \n",
       "WindSpeed9am   0.228360  0.050943  \n",
       "WindSpeed3pm   0.166538  0.071270  \n",
       "Humidity9am   -0.555742 -0.527533  \n",
       "Humidity3pm   -0.382066 -0.632528  \n",
       "Pressure9am   -0.483050 -0.340961  \n",
       "Pressure3pm   -0.504421 -0.421216  \n",
       "Cloud9am      -0.239464 -0.257119  \n",
       "Cloud3pm      -0.093514 -0.201797  \n",
       "Temp9am        1.000000  0.876680  \n",
       "Temp3pm        0.876680  1.000000  "
      ]
     },
     "execution_count": 14,
     "metadata": {},
     "output_type": "execute_result"
    }
   ],
   "source": [
    "cols = ['MinTemp','MaxTemp','Rainfall','Evaporation','Sunshine','WindGustSpeed','WindSpeed9am','WindSpeed3pm','Humidity9am','Humidity3pm','Pressure9am','Pressure3pm','Cloud9am','Cloud3pm','Temp9am','Temp3pm']\n",
    "cor_matrix = unique_weather_data[cols].corr()\n",
    "cor_matrix"
   ]
  },
  {
   "cell_type": "code",
   "execution_count": null,
   "id": "d05db108-4135-4a81-a3b7-588c3c2ec2aa",
   "metadata": {},
   "outputs": [],
   "source": [
    "<h2> draw heatmap graph to depict the correlation </h2> "
   ]
  },
  {
   "cell_type": "code",
   "execution_count": 15,
   "id": "dc77b48e-0b55-4b8c-a1ae-defff7114d1f",
   "metadata": {},
   "outputs": [
    {
     "data": {
      "text/plain": [
       "<Axes: >"
      ]
     },
     "execution_count": 15,
     "metadata": {},
     "output_type": "execute_result"
    },
    {
     "data": {
      "image/png": "[encoded data removed]",
      "text/plain": [
       "<Figure size 1000x600 with 2 Axes>"
      ]
     },
     "metadata": {},
     "output_type": "display_data"
    }
   ],
   "source": [
    "from matplotlib import pyplot as plt\n",
    "import seaborn as sns \n",
    "%matplotlib inline \n",
    "plt.figure(figsize=(10,6))\n",
    "sns.heatmap(cor_matrix, annot=True, cmap='RdBu',vmin=-1, vmax=1) "
   ]
  },
  {
   "cell_type": "markdown",
   "id": "e21065db-2795-4054-a349-494d163ece61",
   "metadata": {},
   "source": [
    "<blockquote style=\"color:orange\"> As we see from the above graph, The Red color indicate, Negative linear relationship and and the blue color indicate positive linear relationship\n",
    " for example, there is linear relationship between MinTemp and Temp3pm. i.e when Mintemp increase, then temp3pm also increase.\n",
    "</blockquote> "
   ]
  },
  {
   "cell_type": "markdown",
   "id": "12cb5ad0-76f0-4c35-ae53-62e9686a1443",
   "metadata": {},
   "source": [
    "<h1> Task 5: Feature selection/ Extraction </h1>"
   ]
  },
  {
   "cell_type": "code",
   "execution_count": 16,
   "id": "2d6aa702-04f9-4b28-84f9-fc2419e1271a",
   "metadata": {},
   "outputs": [],
   "source": [
    "# the weather categorical column is not in the standard, so let's change it into standard category \n",
    "\n",
    "from itertools import chain\n",
    "def create_list(x):\n",
    "    list_of_lists = [w.split() for w in x.split(\",\")]\n",
    "    flat_list = list(chain(*list_of_lists))\n",
    "    return flat_list\n",
    "\n",
    "def get_weather(list1):\n",
    "\n",
    "    if 'Fog' in list1 and 'Rain' in list1:\n",
    "        return 'RAIN+FOG'\n",
    "    elif 'Snow' in list1 and 'Rain' in list1:\n",
    "        return 'SNOW+RAIN'\n",
    "    elif 'Snow' in list1:\n",
    "        return 'SNOW'\n",
    "    elif 'Rain' in list1:\n",
    "        return 'RAIN'\n",
    "    elif 'Fog' in list1:\n",
    "        return 'FOG'\n",
    "    elif 'Clear' in list1:\n",
    "        return 'Clear'\n",
    "    elif 'Cloudy' in list1:\n",
    "        return 'Cloudy'\n",
    "    else:\n",
    "        return 'RAIN' \n",
    "\n",
    "# convert the weather categories into standard categories\n",
    "x = 'Thunderstorms,Moderate Rain Showers,Fog'   #\n",
    "unique_weather_data['standard_weather'] = unique_weather_data['Weather'].apply(lambda x: get_weather(create_list(x)))\n",
    "unique_weather_data    # the weather column is more standard \n",
    "# let's remove weather column since it is not relevant now, or we have already standard weather columns\n",
    "unique_weather_data.drop(columns=['Weather','Date'],axis=1, inplace=True)"
   ]
  },
  {
   "cell_type": "code",
   "execution_count": 131,
   "id": "c2d63c3a-fedd-42d3-b178-6d1dec488602",
   "metadata": {},
   "outputs": [
    {
     "data": {
      "text/html": [
       "<div>\n",
       "<style scoped>\n",
       "    .dataframe tbody tr th:only-of-type {\n",
       "        vertical-align: middle;\n",
       "    }\n",
       "\n",
       "    .dataframe tbody tr th {\n",
       "        vertical-align: top;\n",
       "    }\n",
       "\n",
       "    .dataframe thead th {\n",
       "        text-align: right;\n",
       "    }\n",
       "</style>\n",
       "<table border=\"1\" class=\"dataframe\">\n",
       "  <thead>\n",
       "    <tr style=\"text-align: right;\">\n",
       "      <th></th>\n",
       "      <th>Location</th>\n",
       "      <th>MinTemp</th>\n",
       "      <th>MaxTemp</th>\n",
       "      <th>Rainfall</th>\n",
       "      <th>Evaporation</th>\n",
       "      <th>Sunshine</th>\n",
       "      <th>WindGustDir</th>\n",
       "      <th>WindGustSpeed</th>\n",
       "      <th>WindDir9am</th>\n",
       "      <th>WindDir3pm</th>\n",
       "      <th>...</th>\n",
       "      <th>Humidity3pm</th>\n",
       "      <th>Pressure9am</th>\n",
       "      <th>Pressure3pm</th>\n",
       "      <th>Cloud9am</th>\n",
       "      <th>Cloud3pm</th>\n",
       "      <th>Temp9am</th>\n",
       "      <th>Temp3pm</th>\n",
       "      <th>RainToday</th>\n",
       "      <th>RainTomorrow</th>\n",
       "      <th>standard_weather</th>\n",
       "    </tr>\n",
       "  </thead>\n",
       "  <tbody>\n",
       "    <tr>\n",
       "      <th>0</th>\n",
       "      <td>Albury</td>\n",
       "      <td>13.4</td>\n",
       "      <td>22.9</td>\n",
       "      <td>0.6</td>\n",
       "      <td>2.2</td>\n",
       "      <td>3.9</td>\n",
       "      <td>W</td>\n",
       "      <td>44.0</td>\n",
       "      <td>W</td>\n",
       "      <td>WNW</td>\n",
       "      <td>...</td>\n",
       "      <td>22.0</td>\n",
       "      <td>1007.7</td>\n",
       "      <td>1007.1</td>\n",
       "      <td>8.00</td>\n",
       "      <td>8.0</td>\n",
       "      <td>16.9</td>\n",
       "      <td>21.8</td>\n",
       "      <td>No</td>\n",
       "      <td>No</td>\n",
       "      <td>FOG</td>\n",
       "    </tr>\n",
       "    <tr>\n",
       "      <th>1</th>\n",
       "      <td>Albury</td>\n",
       "      <td>7.4</td>\n",
       "      <td>25.1</td>\n",
       "      <td>0.0</td>\n",
       "      <td>2.2</td>\n",
       "      <td>3.9</td>\n",
       "      <td>WNW</td>\n",
       "      <td>44.0</td>\n",
       "      <td>NNW</td>\n",
       "      <td>WSW</td>\n",
       "      <td>...</td>\n",
       "      <td>25.0</td>\n",
       "      <td>1010.6</td>\n",
       "      <td>1007.8</td>\n",
       "      <td>7.75</td>\n",
       "      <td>8.0</td>\n",
       "      <td>17.2</td>\n",
       "      <td>24.3</td>\n",
       "      <td>No</td>\n",
       "      <td>No</td>\n",
       "      <td>FOG</td>\n",
       "    </tr>\n",
       "    <tr>\n",
       "      <th>2</th>\n",
       "      <td>Albury</td>\n",
       "      <td>12.9</td>\n",
       "      <td>25.7</td>\n",
       "      <td>0.0</td>\n",
       "      <td>2.2</td>\n",
       "      <td>3.9</td>\n",
       "      <td>WSW</td>\n",
       "      <td>46.0</td>\n",
       "      <td>W</td>\n",
       "      <td>WSW</td>\n",
       "      <td>...</td>\n",
       "      <td>30.0</td>\n",
       "      <td>1007.6</td>\n",
       "      <td>1008.7</td>\n",
       "      <td>7.50</td>\n",
       "      <td>2.0</td>\n",
       "      <td>21.0</td>\n",
       "      <td>23.2</td>\n",
       "      <td>No</td>\n",
       "      <td>No</td>\n",
       "      <td>FOG</td>\n",
       "    </tr>\n",
       "    <tr>\n",
       "      <th>3</th>\n",
       "      <td>Albury</td>\n",
       "      <td>9.2</td>\n",
       "      <td>28.0</td>\n",
       "      <td>0.0</td>\n",
       "      <td>2.2</td>\n",
       "      <td>3.9</td>\n",
       "      <td>NE</td>\n",
       "      <td>24.0</td>\n",
       "      <td>SE</td>\n",
       "      <td>E</td>\n",
       "      <td>...</td>\n",
       "      <td>16.0</td>\n",
       "      <td>1017.6</td>\n",
       "      <td>1012.8</td>\n",
       "      <td>7.25</td>\n",
       "      <td>5.0</td>\n",
       "      <td>18.1</td>\n",
       "      <td>26.5</td>\n",
       "      <td>No</td>\n",
       "      <td>No</td>\n",
       "      <td>FOG</td>\n",
       "    </tr>\n",
       "    <tr>\n",
       "      <th>4</th>\n",
       "      <td>Albury</td>\n",
       "      <td>17.5</td>\n",
       "      <td>32.3</td>\n",
       "      <td>1.0</td>\n",
       "      <td>2.2</td>\n",
       "      <td>3.9</td>\n",
       "      <td>W</td>\n",
       "      <td>41.0</td>\n",
       "      <td>ENE</td>\n",
       "      <td>NW</td>\n",
       "      <td>...</td>\n",
       "      <td>33.0</td>\n",
       "      <td>1010.8</td>\n",
       "      <td>1006.0</td>\n",
       "      <td>7.00</td>\n",
       "      <td>8.0</td>\n",
       "      <td>17.8</td>\n",
       "      <td>29.7</td>\n",
       "      <td>No</td>\n",
       "      <td>No</td>\n",
       "      <td>FOG</td>\n",
       "    </tr>\n",
       "    <tr>\n",
       "      <th>...</th>\n",
       "      <td>...</td>\n",
       "      <td>...</td>\n",
       "      <td>...</td>\n",
       "      <td>...</td>\n",
       "      <td>...</td>\n",
       "      <td>...</td>\n",
       "      <td>...</td>\n",
       "      <td>...</td>\n",
       "      <td>...</td>\n",
       "      <td>...</td>\n",
       "      <td>...</td>\n",
       "      <td>...</td>\n",
       "      <td>...</td>\n",
       "      <td>...</td>\n",
       "      <td>...</td>\n",
       "      <td>...</td>\n",
       "      <td>...</td>\n",
       "      <td>...</td>\n",
       "      <td>...</td>\n",
       "      <td>...</td>\n",
       "      <td>...</td>\n",
       "    </tr>\n",
       "    <tr>\n",
       "      <th>7856</th>\n",
       "      <td>Cobar</td>\n",
       "      <td>18.9</td>\n",
       "      <td>32.2</td>\n",
       "      <td>0.0</td>\n",
       "      <td>7.2</td>\n",
       "      <td>3.9</td>\n",
       "      <td>S</td>\n",
       "      <td>43.0</td>\n",
       "      <td>ESE</td>\n",
       "      <td>WSW</td>\n",
       "      <td>...</td>\n",
       "      <td>32.0</td>\n",
       "      <td>1017.5</td>\n",
       "      <td>1014.9</td>\n",
       "      <td>3.00</td>\n",
       "      <td>5.0</td>\n",
       "      <td>25.2</td>\n",
       "      <td>31.2</td>\n",
       "      <td>No</td>\n",
       "      <td>No</td>\n",
       "      <td>Cloudy</td>\n",
       "    </tr>\n",
       "    <tr>\n",
       "      <th>7857</th>\n",
       "      <td>Cobar</td>\n",
       "      <td>18.5</td>\n",
       "      <td>32.2</td>\n",
       "      <td>0.0</td>\n",
       "      <td>6.8</td>\n",
       "      <td>3.9</td>\n",
       "      <td>WSW</td>\n",
       "      <td>30.0</td>\n",
       "      <td>SE</td>\n",
       "      <td>WSW</td>\n",
       "      <td>...</td>\n",
       "      <td>32.0</td>\n",
       "      <td>1016.6</td>\n",
       "      <td>1013.6</td>\n",
       "      <td>1.00</td>\n",
       "      <td>5.0</td>\n",
       "      <td>22.6</td>\n",
       "      <td>31.2</td>\n",
       "      <td>No</td>\n",
       "      <td>No</td>\n",
       "      <td>Cloudy</td>\n",
       "    </tr>\n",
       "    <tr>\n",
       "      <th>7858</th>\n",
       "      <td>Cobar</td>\n",
       "      <td>16.6</td>\n",
       "      <td>32.1</td>\n",
       "      <td>0.0</td>\n",
       "      <td>8.6</td>\n",
       "      <td>3.9</td>\n",
       "      <td>NNW</td>\n",
       "      <td>31.0</td>\n",
       "      <td>SW</td>\n",
       "      <td>NW</td>\n",
       "      <td>...</td>\n",
       "      <td>28.0</td>\n",
       "      <td>1014.6</td>\n",
       "      <td>1012.0</td>\n",
       "      <td>3.00</td>\n",
       "      <td>4.0</td>\n",
       "      <td>19.6</td>\n",
       "      <td>30.4</td>\n",
       "      <td>No</td>\n",
       "      <td>No</td>\n",
       "      <td>Cloudy</td>\n",
       "    </tr>\n",
       "    <tr>\n",
       "      <th>7859</th>\n",
       "      <td>Cobar</td>\n",
       "      <td>19.6</td>\n",
       "      <td>29.0</td>\n",
       "      <td>0.0</td>\n",
       "      <td>7.6</td>\n",
       "      <td>3.9</td>\n",
       "      <td>NNW</td>\n",
       "      <td>46.0</td>\n",
       "      <td>N</td>\n",
       "      <td>NNW</td>\n",
       "      <td>...</td>\n",
       "      <td>39.0</td>\n",
       "      <td>1010.8</td>\n",
       "      <td>1008.1</td>\n",
       "      <td>7.00</td>\n",
       "      <td>8.0</td>\n",
       "      <td>21.4</td>\n",
       "      <td>27.6</td>\n",
       "      <td>No</td>\n",
       "      <td>No</td>\n",
       "      <td>Cloudy</td>\n",
       "    </tr>\n",
       "    <tr>\n",
       "      <th>7860</th>\n",
       "      <td>Cobar</td>\n",
       "      <td>18.4</td>\n",
       "      <td>25.7</td>\n",
       "      <td>0.0</td>\n",
       "      <td>5.8</td>\n",
       "      <td>3.9</td>\n",
       "      <td>WSW</td>\n",
       "      <td>37.0</td>\n",
       "      <td>SSW</td>\n",
       "      <td>W</td>\n",
       "      <td>...</td>\n",
       "      <td>32.0</td>\n",
       "      <td>1010.0</td>\n",
       "      <td>1008.9</td>\n",
       "      <td>7.00</td>\n",
       "      <td>6.0</td>\n",
       "      <td>19.1</td>\n",
       "      <td>25.1</td>\n",
       "      <td>No</td>\n",
       "      <td>No</td>\n",
       "      <td>Cloudy</td>\n",
       "    </tr>\n",
       "  </tbody>\n",
       "</table>\n",
       "<p>7861 rows × 23 columns</p>\n",
       "</div>"
      ],
      "text/plain": [
       "     Location  MinTemp  MaxTemp  Rainfall  Evaporation  Sunshine WindGustDir  \\\n",
       "0      Albury     13.4     22.9       0.6          2.2       3.9           W   \n",
       "1      Albury      7.4     25.1       0.0          2.2       3.9         WNW   \n",
       "2      Albury     12.9     25.7       0.0          2.2       3.9         WSW   \n",
       "3      Albury      9.2     28.0       0.0          2.2       3.9          NE   \n",
       "4      Albury     17.5     32.3       1.0          2.2       3.9           W   \n",
       "...       ...      ...      ...       ...          ...       ...         ...   \n",
       "7856    Cobar     18.9     32.2       0.0          7.2       3.9           S   \n",
       "7857    Cobar     18.5     32.2       0.0          6.8       3.9         WSW   \n",
       "7858    Cobar     16.6     32.1       0.0          8.6       3.9         NNW   \n",
       "7859    Cobar     19.6     29.0       0.0          7.6       3.9         NNW   \n",
       "7860    Cobar     18.4     25.7       0.0          5.8       3.9         WSW   \n",
       "\n",
       "      WindGustSpeed WindDir9am WindDir3pm  ...  Humidity3pm  Pressure9am  \\\n",
       "0              44.0          W        WNW  ...         22.0       1007.7   \n",
       "1              44.0        NNW        WSW  ...         25.0       1010.6   \n",
       "2              46.0          W        WSW  ...         30.0       1007.6   \n",
       "3              24.0         SE          E  ...         16.0       1017.6   \n",
       "4              41.0        ENE         NW  ...         33.0       1010.8   \n",
       "...             ...        ...        ...  ...          ...          ...   \n",
       "7856           43.0        ESE        WSW  ...         32.0       1017.5   \n",
       "7857           30.0         SE        WSW  ...         32.0       1016.6   \n",
       "7858           31.0         SW         NW  ...         28.0       1014.6   \n",
       "7859           46.0          N        NNW  ...         39.0       1010.8   \n",
       "7860           37.0        SSW          W  ...         32.0       1010.0   \n",
       "\n",
       "      Pressure3pm  Cloud9am  Cloud3pm  Temp9am  Temp3pm  RainToday  \\\n",
       "0          1007.1      8.00       8.0     16.9     21.8         No   \n",
       "1          1007.8      7.75       8.0     17.2     24.3         No   \n",
       "2          1008.7      7.50       2.0     21.0     23.2         No   \n",
       "3          1012.8      7.25       5.0     18.1     26.5         No   \n",
       "4          1006.0      7.00       8.0     17.8     29.7         No   \n",
       "...           ...       ...       ...      ...      ...        ...   \n",
       "7856       1014.9      3.00       5.0     25.2     31.2         No   \n",
       "7857       1013.6      1.00       5.0     22.6     31.2         No   \n",
       "7858       1012.0      3.00       4.0     19.6     30.4         No   \n",
       "7859       1008.1      7.00       8.0     21.4     27.6         No   \n",
       "7860       1008.9      7.00       6.0     19.1     25.1         No   \n",
       "\n",
       "      RainTomorrow  standard_weather  \n",
       "0               No               FOG  \n",
       "1               No               FOG  \n",
       "2               No               FOG  \n",
       "3               No               FOG  \n",
       "4               No               FOG  \n",
       "...            ...               ...  \n",
       "7856            No            Cloudy  \n",
       "7857            No            Cloudy  \n",
       "7858            No            Cloudy  \n",
       "7859            No            Cloudy  \n",
       "7860            No            Cloudy  \n",
       "\n",
       "[7861 rows x 23 columns]"
      ]
     },
     "execution_count": 131,
     "metadata": {},
     "output_type": "execute_result"
    }
   ],
   "source": [
    "unique_weather_data"
   ]
  },
  {
   "cell_type": "markdown",
   "id": "be0e6741-28b3-4a89-8688-fcd1d669ec84",
   "metadata": {},
   "source": [
    "<h1>  Task 6: Feature Encoding </h1>\n",
    "<blockquote style=\"color:orange\">\n",
    "Label Encoding is a technique that is used to convert categorical columns into numerical ones so that they can be fitted by machine learning models which only take numerical data. \n",
    "It is an important pre-processing step in a machine-learning project\n",
    "</blockquote>"
   ]
  },
  {
   "cell_type": "markdown",
   "id": "05c8f0e6-3ddd-4f2a-921e-8625cdf23628",
   "metadata": {},
   "source": [
    "from sklearn.preprocessing import LabelEncoder \n",
    "\n",
    "weather_label_encoder = LabelEncoder()\n",
    "unique_weather_data['standard_weather'] = weather_label_encoder.fit_transform(unique_weather_data['standard_weather'])\n",
    "\n",
    "location_label_encoder = LabelEncoder() \n",
    "unique_weather_data['Location'] = location_label_encoder.fit_transform(unique_weather_data['Location'])\n",
    "\n",
    "winddir9label_encoder = LabelEncoder()\n",
    "unique_weather_data['WindDir9am'] = winddir9label_encoder.fit_transform(unique_weather_data['WindDir9am']) \n",
    "\n",
    "winddir3label_encoder = LabelEncoder()\n",
    "unique_weather_data['WindDir3pm'] = winddir3label_encoder.fit_transform(unique_weather_data['WindDir3pm'])\n",
    "\n",
    "winddirlabel_encoder = LabelEncoder() \n",
    "unique_weather_data['WindGustDir'] = winddirlabel_encoder.fit_transform(unique_weather_data['WindGustDir']) \n",
    "\n",
    "raintoday_encoder = LabelEncoder()\n",
    "unique_weather_data['RainToday'] = raintoday_encoder.fit_transform(unique_weather_data['RainToday'])\n",
    "\n",
    "raintomorrow_encoder = LabelEncoder() \n",
    "unique_weather_data['RainTomorrow'] = winddirlabel_encoder.fit_transform(unique_weather_data['RainTomorrow']) \n"
   ]
  },
  {
   "cell_type": "markdown",
   "id": "1f84be18-f1b9-459f-9e0f-122124be8271",
   "metadata": {},
   "source": [
    "<h1> Task 7: Feature scalling  </h1>\n",
    "<blockquote style=\"color:orange\">\n",
    "Feature scaling is a method used to normalize the range of independent variables or features of data. In data processing, it is also known as data normalization and is generally performed during the data preprocessing step.\n",
    "Since the range of values of raw data varies widely, in some machine learning algorithms, objective functions will not work properly without normalization. For example, many classifiers calculate the distance between two points by the Euclidean distance. If one of the features has a broad range of values, the distance will be governed by this particular feature. Therefore, the range of all features should be normalized so that each feature contributes approximately proportionately to the final distance.\n",
    "Scale numerical features: Normalize or standardize numerical features to ensure that they have a similar scale. This can help improve the performance of some machine learning algorithms, particularly SVM.\n",
    "before scalling let's select columns that we need to scale or normalize\n",
    "</blockquote>"
   ]
  },
  {
   "cell_type": "markdown",
   "id": "76444cb4-c225-45dd-b982-1fa024ae31df",
   "metadata": {},
   "source": [
    "<h3 style=\"color:orange\"> select dependent and independent variables  </h3> \n",
    "<p>\n",
    "the independent variables (features) are the factors that influence or affect the dependent variable (target), which, in this case, is likely to be whether it will rain tomorrow ('RainTomorrow')\n",
    "you would use the independent variables (features) to predict whether it will rain tomorrow ('RainTomorrow'), making 'RainTomorrow' the dependent \n",
    "</p> "
   ]
  },
  {
   "cell_type": "code",
   "execution_count": 19,
   "id": "d1a4fb07-af62-4cf5-b15c-8d9d7ede1a44",
   "metadata": {},
   "outputs": [],
   "source": [
    "x = unique_weather_data.drop(['RainTomorrow'], axis=1) # all columns are independent variable except \"standard_weather\"\n",
    "y = unique_weather_data['RainTomorrow']  # this is the variable that is dependent and we are going to forcast"
   ]
  },
  {
   "cell_type": "markdown",
   "id": "2abf5b35-3133-40e8-9b17-91dc826016cd",
   "metadata": {},
   "source": [
    "<h3 style=\"color:orange\"> Apply scalling to independent variable </h3> "
   ]
  },
  {
   "cell_type": "code",
   "execution_count": 20,
   "id": "b857b4b8-4046-4d3f-970d-8fa9075156db",
   "metadata": {},
   "outputs": [
    {
     "data": {
      "text/plain": [
       "array([[-1.09589834,  0.39357453, -0.14009756, ..., -0.1028991 ,\n",
       "        -0.4715511 ,  0.80045128],\n",
       "       [-1.09589834, -0.57528436,  0.16312192, ...,  0.25281009,\n",
       "        -0.4715511 ,  0.80045128],\n",
       "       [-1.09589834,  0.31283629,  0.24581814, ...,  0.09629805,\n",
       "        -0.4715511 ,  0.80045128],\n",
       "       ...,\n",
       "       [ 1.50167647,  0.91029927,  1.12791118, ...,  1.12074049,\n",
       "        -0.4715511 ,  0.00985604],\n",
       "       [ 1.50167647,  1.39472871,  0.70064737, ...,  0.72234621,\n",
       "        -0.4715511 ,  0.00985604],\n",
       "       [ 1.50167647,  1.20095693,  0.24581814, ...,  0.36663702,\n",
       "        -0.4715511 ,  0.00985604]])"
      ]
     },
     "execution_count": 20,
     "metadata": {},
     "output_type": "execute_result"
    }
   ],
   "source": [
    "from sklearn.preprocessing import StandardScaler\n",
    "std_scaler = StandardScaler() \n",
    "x_std = std_scaler.fit_transform(x)    # normalize independent variables\n",
    "x_std"
   ]
  },
  {
   "cell_type": "markdown",
   "id": "45252ad2-13fe-4dc7-a501-c3ee01d0ea2c",
   "metadata": {},
   "source": [
    "<h1> Task 8: Apply machine learning algorithm </h1> "
   ]
  },
  {
   "cell_type": "markdown",
   "id": "7ffd415d-621e-43fe-8eff-729bf3fb8d04",
   "metadata": {},
   "source": [
    "<h3 style=\"color:orange\"> 1) Spliting the dataset </h3> \n",
    "<p> let's split the dataset and 80% for training and 20% for testing </p>"
   ]
  },
  {
   "cell_type": "code",
   "execution_count": 22,
   "id": "a27a7ecd-5bd6-47e7-a722-b3f350cd4bf6",
   "metadata": {},
   "outputs": [],
   "source": [
    "from sklearn.model_selection import train_test_split \n",
    "x_train, x_test, y_train,y_test = train_test_split(x_std,y,test_size=0.2,random_state=0) # 80% for training and 20% for testing "
   ]
  },
  {
   "cell_type": "markdown",
   "id": "b0638dd2-5453-45e9-9d01-570c314ad599",
   "metadata": {},
   "source": [
    "<h3 style=\"color:orange\"> 2) Building models  </h3> \n",
    "<p> let us split the dataset and 80% for training and 20% for testing </p>"
   ]
  },
  {
   "cell_type": "code",
   "execution_count": 23,
   "id": "1a7cd211-7b77-431c-86f6-1a2c6b104127",
   "metadata": {},
   "outputs": [],
   "source": [
    "from sklearn.tree import DecisionTreeClassifier \n",
    "decision_tree_model = DecisionTreeClassifier()   # create decision tree classifier object "
   ]
  },
  {
   "cell_type": "markdown",
   "id": "eba8b960-c73a-4b81-9b0a-5226442b5342",
   "metadata": {},
   "source": [
    "<h3 style=\"color:orange\"> 2) training decision tree classifier model   </h3> "
   ]
  },
  {
   "cell_type": "code",
   "execution_count": 24,
   "id": "7018d8ae-bd34-4ac5-b88d-5e86067eb898",
   "metadata": {},
   "outputs": [
    {
     "data": {
      "text/html": [
       "<style>#sk-container-id-1 {color: black;background-color: white;}#sk-container-id-1 pre{padding: 0;}#sk-container-id-1 div.sk-toggleable {background-color: white;}#sk-container-id-1 label.sk-toggleable__label {cursor: pointer;display: block;width: 100%;margin-bottom: 0;padding: 0.3em;box-sizing: border-box;text-align: center;}#sk-container-id-1 label.sk-toggleable__label-arrow:before {content: \"▸\";float: left;margin-right: 0.25em;color: #696969;}#sk-container-id-1 label.sk-toggleable__label-arrow:hover:before {color: black;}#sk-container-id-1 div.sk-estimator:hover label.sk-toggleable__label-arrow:before {color: black;}#sk-container-id-1 div.sk-toggleable__content {max-height: 0;max-width: 0;overflow: hidden;text-align: left;background-color: #f0f8ff;}#sk-container-id-1 div.sk-toggleable__content pre {margin: 0.2em;color: black;border-radius: 0.25em;background-color: #f0f8ff;}#sk-container-id-1 input.sk-toggleable__control:checked~div.sk-toggleable__content {max-height: 200px;max-width: 100%;overflow: auto;}#sk-container-id-1 input.sk-toggleable__control:checked~label.sk-toggleable__label-arrow:before {content: \"▾\";}#sk-container-id-1 div.sk-estimator input.sk-toggleable__control:checked~label.sk-toggleable__label {background-color: #d4ebff;}#sk-container-id-1 div.sk-label input.sk-toggleable__control:checked~label.sk-toggleable__label {background-color: #d4ebff;}#sk-container-id-1 input.sk-hidden--visually {border: 0;clip: rect(1px 1px 1px 1px);clip: rect(1px, 1px, 1px, 1px);height: 1px;margin: -1px;overflow: hidden;padding: 0;position: absolute;width: 1px;}#sk-container-id-1 div.sk-estimator {font-family: monospace;background-color: #f0f8ff;border: 1px dotted black;border-radius: 0.25em;box-sizing: border-box;margin-bottom: 0.5em;}#sk-container-id-1 div.sk-estimator:hover {background-color: #d4ebff;}#sk-container-id-1 div.sk-parallel-item::after {content: \"\";width: 100%;border-bottom: 1px solid gray;flex-grow: 1;}#sk-container-id-1 div.sk-label:hover label.sk-toggleable__label {background-color: #d4ebff;}#sk-container-id-1 div.sk-serial::before {content: \"\";position: absolute;border-left: 1px solid gray;box-sizing: border-box;top: 0;bottom: 0;left: 50%;z-index: 0;}#sk-container-id-1 div.sk-serial {display: flex;flex-direction: column;align-items: center;background-color: white;padding-right: 0.2em;padding-left: 0.2em;position: relative;}#sk-container-id-1 div.sk-item {position: relative;z-index: 1;}#sk-container-id-1 div.sk-parallel {display: flex;align-items: stretch;justify-content: center;background-color: white;position: relative;}#sk-container-id-1 div.sk-item::before, #sk-container-id-1 div.sk-parallel-item::before {content: \"\";position: absolute;border-left: 1px solid gray;box-sizing: border-box;top: 0;bottom: 0;left: 50%;z-index: -1;}#sk-container-id-1 div.sk-parallel-item {display: flex;flex-direction: column;z-index: 1;position: relative;background-color: white;}#sk-container-id-1 div.sk-parallel-item:first-child::after {align-self: flex-end;width: 50%;}#sk-container-id-1 div.sk-parallel-item:last-child::after {align-self: flex-start;width: 50%;}#sk-container-id-1 div.sk-parallel-item:only-child::after {width: 0;}#sk-container-id-1 div.sk-dashed-wrapped {border: 1px dashed gray;margin: 0 0.4em 0.5em 0.4em;box-sizing: border-box;padding-bottom: 0.4em;background-color: white;}#sk-container-id-1 div.sk-label label {font-family: monospace;font-weight: bold;display: inline-block;line-height: 1.2em;}#sk-container-id-1 div.sk-label-container {text-align: center;}#sk-container-id-1 div.sk-container {/* jupyter's `normalize.less` sets `[hidden] { display: none; }` but bootstrap.min.css set `[hidden] { display: none !important; }` so we also need the `!important` here to be able to override the default hidden behavior on the sphinx rendered scikit-learn.org. See: https://github.com/scikit-learn/scikit-learn/issues/21755 */display: inline-block !important;position: relative;}#sk-container-id-1 div.sk-text-repr-fallback {display: none;}</style><div id=\"sk-container-id-1\" class=\"sk-top-container\"><div class=\"sk-text-repr-fallback\"><pre>DecisionTreeClassifier()</pre><b>In a Jupyter environment, please rerun this cell to show the HTML representation or trust the notebook. <br />On GitHub, the HTML representation is unable to render, please try loading this page with nbviewer.org.</b></div><div class=\"sk-container\" hidden><div class=\"sk-item\"><div class=\"sk-estimator sk-toggleable\"><input class=\"sk-toggleable__control sk-hidden--visually\" id=\"sk-estimator-id-1\" type=\"checkbox\" checked><label for=\"sk-estimator-id-1\" class=\"sk-toggleable__label sk-toggleable__label-arrow\">DecisionTreeClassifier</label><div class=\"sk-toggleable__content\"><pre>DecisionTreeClassifier()</pre></div></div></div></div></div>"
      ],
      "text/plain": [
       "DecisionTreeClassifier()"
      ]
     },
     "execution_count": 24,
     "metadata": {},
     "output_type": "execute_result"
    }
   ],
   "source": [
    "decision_tree_model.fit(x_train,y_train)"
   ]
  },
  {
   "cell_type": "markdown",
   "id": "4107243f-87e3-4657-b3a9-f201d2db8850",
   "metadata": {},
   "source": [
    "<h3 style=\"color:orange\"> 2) model prediction  </h3> "
   ]
  },
  {
   "cell_type": "code",
   "execution_count": 25,
   "id": "e5c3a6d4-f030-41d7-b0df-80fcd13a019d",
   "metadata": {},
   "outputs": [
    {
     "data": {
      "text/plain": [
       "array([0, 0, 0, ..., 0, 0, 0])"
      ]
     },
     "execution_count": 25,
     "metadata": {},
     "output_type": "execute_result"
    }
   ],
   "source": [
    "# model prediction; predict the response for the test dataset \n",
    "y_pred_dt = decision_tree_model.predict(x_test) \n",
    "y_pred_dt"
   ]
  },
  {
   "cell_type": "markdown",
   "id": "7ed797dc-d627-41bd-ab63-60210e250bb2",
   "metadata": {},
   "source": [
    "<h3 style=\"color:orange\"> 2) model Evaluation, classification report, and confusion matrix  </h3> "
   ]
  },
  {
   "cell_type": "code",
   "execution_count": 26,
   "id": "6b196a63-c84d-4490-a2d0-a17f86a0e383",
   "metadata": {},
   "outputs": [
    {
     "data": {
      "text/plain": [
       "0.8270820089001907"
      ]
     },
     "execution_count": 26,
     "metadata": {},
     "output_type": "execute_result"
    }
   ],
   "source": [
    "# model evaluations\n",
    "from sklearn.metrics import accuracy_score\n",
    "from sklearn.metrics import classification_report\n",
    "from sklearn.metrics import confusion_matrix\n",
    "\n",
    "# check accuracy; how  often is the classifier correct? \n",
    "accuracy_score(y_test, y_pred_dt)"
   ]
  },
  {
   "cell_type": "code",
   "execution_count": 147,
   "id": "490b711b-a357-409a-b44b-5945c39ac9de",
   "metadata": {},
   "outputs": [
    {
     "name": "stdout",
     "output_type": "stream",
     "text": [
      "              precision    recall  f1-score   support\n",
      "\n",
      "           0       0.90      0.91      0.90      1297\n",
      "           1       0.53      0.50      0.52       276\n",
      "\n",
      "    accuracy                           0.84      1573\n",
      "   macro avg       0.71      0.70      0.71      1573\n",
      "weighted avg       0.83      0.84      0.83      1573\n",
      "\n"
     ]
    }
   ],
   "source": [
    "# classification report\n",
    "print(classification_report(y_test,y_pred_dt))"
   ]
  },
  {
   "cell_type": "code",
   "execution_count": 77,
   "id": "2794dcb9-4dff-4601-9d14-20185b019059",
   "metadata": {},
   "outputs": [
    {
     "data": {
      "text/plain": [
       "<Axes: >"
      ]
     },
     "execution_count": 77,
     "metadata": {},
     "output_type": "execute_result"
    },
    {
     "data": {
      "image/png": "[encoded data removed]",
      "text/plain": [
       "<Figure size 640x480 with 2 Axes>"
      ]
     },
     "metadata": {},
     "output_type": "display_data"
    }
   ],
   "source": [
    "cm = confusion_matrix(y_test,y_pred_dt)\n",
    "sns.heatmap(cm,annot = True, fmt='d')"
   ]
  },
  {
   "cell_type": "markdown",
   "id": "aa62fca3-a115-44d2-af26-fe0c6ef6f935",
   "metadata": {},
   "source": [
    "<h1 style=\"color:orange\"> Building multiple models: best models  </h1>"
   ]
  },
  {
   "cell_type": "code",
   "execution_count": 95,
   "id": "d2948c4d-846e-493a-8dfd-304497edd050",
   "metadata": {},
   "outputs": [
    {
     "ename": "ValueError",
     "evalue": "sort array is read-only",
     "output_type": "error",
     "traceback": [
      "\u001b[1;31m---------------------------------------------------------------------------\u001b[0m",
      "\u001b[1;31mValueError\u001b[0m                                Traceback (most recent call last)",
      "Cell \u001b[1;32mIn[95], line 27\u001b[0m\n\u001b[0;32m     24\u001b[0m     feature_importances\u001b[38;5;241m.\u001b[39mappend(feature_importance)\n\u001b[0;32m     26\u001b[0m \u001b[38;5;28;01mfor\u001b[39;00m feature \u001b[38;5;129;01min\u001b[39;00m feature_importances:\n\u001b[1;32m---> 27\u001b[0m     feature\u001b[38;5;241m.\u001b[39msort()\n",
      "\u001b[1;31mValueError\u001b[0m: sort array is read-only"
     ]
    }
   ],
   "source": [
    "from sklearn.tree import DecisionTreeClassifier\n",
    "from sklearn.ensemble import RandomForestClassifier \n",
    "from sklearn.svm import SVC\n",
    "\n",
    "dt_model = DecisionTreeClassifier() \n",
    "rf_model = RandomForestClassifier()\n",
    "svc_model =  SVC(kernel='linear') \n",
    "\n",
    "model_list = [dt_model, rf_model,svc_model]\n",
    "\n",
    "acc_list = [] \n",
    "feature_importances = [] \n",
    "\n",
    "for model in model_list:\n",
    "    model.fit(x_train,y_train) \n",
    "    y_pred = model.predict(x_test)\n",
    "    acc = accuracy_score(y_test,y_pred)\n",
    "    acc_list.append(acc)\n",
    "    if model is svc_model:\n",
    "        feature_importance = model.coef_[0] \n",
    "    else:\n",
    "        feature_importance = model.feature_importances_\n",
    "       \n",
    "    feature_importances.append(feature_importance)\n"
   ]
  },
  {
   "cell_type": "code",
   "execution_count": 40,
   "id": "b2acd33c-5418-4c4b-bc92-8b976e8baa93",
   "metadata": {},
   "outputs": [
    {
     "data": {
      "text/html": [
       "<div>\n",
       "<style scoped>\n",
       "    .dataframe tbody tr th:only-of-type {\n",
       "        vertical-align: middle;\n",
       "    }\n",
       "\n",
       "    .dataframe tbody tr th {\n",
       "        vertical-align: top;\n",
       "    }\n",
       "\n",
       "    .dataframe thead th {\n",
       "        text-align: right;\n",
       "    }\n",
       "</style>\n",
       "<table border=\"1\" class=\"dataframe\">\n",
       "  <thead>\n",
       "    <tr style=\"text-align: right;\">\n",
       "      <th></th>\n",
       "      <th>Date</th>\n",
       "      <th>Location</th>\n",
       "      <th>MinTemp</th>\n",
       "      <th>MaxTemp</th>\n",
       "      <th>Rainfall</th>\n",
       "      <th>Evaporation</th>\n",
       "      <th>Sunshine</th>\n",
       "      <th>WindGustDir</th>\n",
       "      <th>WindGustSpeed</th>\n",
       "      <th>WindDir9am</th>\n",
       "      <th>...</th>\n",
       "      <th>Humidity3pm</th>\n",
       "      <th>Pressure9am</th>\n",
       "      <th>Pressure3pm</th>\n",
       "      <th>Cloud9am</th>\n",
       "      <th>Cloud3pm</th>\n",
       "      <th>Temp9am</th>\n",
       "      <th>Temp3pm</th>\n",
       "      <th>RainToday</th>\n",
       "      <th>RainTomorrow</th>\n",
       "      <th>Weather</th>\n",
       "    </tr>\n",
       "  </thead>\n",
       "  <tbody>\n",
       "    <tr>\n",
       "      <th>0</th>\n",
       "      <td>12/1/2008</td>\n",
       "      <td>Albury</td>\n",
       "      <td>13.4</td>\n",
       "      <td>22.9</td>\n",
       "      <td>0.6</td>\n",
       "      <td>2.2</td>\n",
       "      <td>3.9</td>\n",
       "      <td>W</td>\n",
       "      <td>44.0</td>\n",
       "      <td>W</td>\n",
       "      <td>...</td>\n",
       "      <td>22.0</td>\n",
       "      <td>1007.7</td>\n",
       "      <td>1007.1</td>\n",
       "      <td>8.00</td>\n",
       "      <td>8.0</td>\n",
       "      <td>16.9</td>\n",
       "      <td>21.8</td>\n",
       "      <td>No</td>\n",
       "      <td>No</td>\n",
       "      <td>Fog</td>\n",
       "    </tr>\n",
       "    <tr>\n",
       "      <th>1</th>\n",
       "      <td>12/2/2008</td>\n",
       "      <td>Albury</td>\n",
       "      <td>7.4</td>\n",
       "      <td>25.1</td>\n",
       "      <td>0.0</td>\n",
       "      <td>2.2</td>\n",
       "      <td>3.9</td>\n",
       "      <td>WNW</td>\n",
       "      <td>44.0</td>\n",
       "      <td>NNW</td>\n",
       "      <td>...</td>\n",
       "      <td>25.0</td>\n",
       "      <td>1010.6</td>\n",
       "      <td>1007.8</td>\n",
       "      <td>7.75</td>\n",
       "      <td>8.0</td>\n",
       "      <td>17.2</td>\n",
       "      <td>24.3</td>\n",
       "      <td>No</td>\n",
       "      <td>No</td>\n",
       "      <td>Fog</td>\n",
       "    </tr>\n",
       "    <tr>\n",
       "      <th>2</th>\n",
       "      <td>12/3/2008</td>\n",
       "      <td>Albury</td>\n",
       "      <td>12.9</td>\n",
       "      <td>25.7</td>\n",
       "      <td>0.0</td>\n",
       "      <td>2.2</td>\n",
       "      <td>3.9</td>\n",
       "      <td>WSW</td>\n",
       "      <td>46.0</td>\n",
       "      <td>W</td>\n",
       "      <td>...</td>\n",
       "      <td>30.0</td>\n",
       "      <td>1007.6</td>\n",
       "      <td>1008.7</td>\n",
       "      <td>7.50</td>\n",
       "      <td>2.0</td>\n",
       "      <td>21.0</td>\n",
       "      <td>23.2</td>\n",
       "      <td>No</td>\n",
       "      <td>No</td>\n",
       "      <td>Freezing Drizzle,Fog</td>\n",
       "    </tr>\n",
       "    <tr>\n",
       "      <th>3</th>\n",
       "      <td>12/4/2008</td>\n",
       "      <td>Albury</td>\n",
       "      <td>9.2</td>\n",
       "      <td>28.0</td>\n",
       "      <td>0.0</td>\n",
       "      <td>2.2</td>\n",
       "      <td>3.9</td>\n",
       "      <td>NE</td>\n",
       "      <td>24.0</td>\n",
       "      <td>SE</td>\n",
       "      <td>...</td>\n",
       "      <td>16.0</td>\n",
       "      <td>1017.6</td>\n",
       "      <td>1012.8</td>\n",
       "      <td>7.25</td>\n",
       "      <td>5.0</td>\n",
       "      <td>18.1</td>\n",
       "      <td>26.5</td>\n",
       "      <td>No</td>\n",
       "      <td>No</td>\n",
       "      <td>Freezing Drizzle,Fog</td>\n",
       "    </tr>\n",
       "    <tr>\n",
       "      <th>4</th>\n",
       "      <td>12/5/2008</td>\n",
       "      <td>Albury</td>\n",
       "      <td>17.5</td>\n",
       "      <td>32.3</td>\n",
       "      <td>1.0</td>\n",
       "      <td>2.2</td>\n",
       "      <td>3.9</td>\n",
       "      <td>W</td>\n",
       "      <td>41.0</td>\n",
       "      <td>ENE</td>\n",
       "      <td>...</td>\n",
       "      <td>33.0</td>\n",
       "      <td>1010.8</td>\n",
       "      <td>1006.0</td>\n",
       "      <td>7.00</td>\n",
       "      <td>8.0</td>\n",
       "      <td>17.8</td>\n",
       "      <td>29.7</td>\n",
       "      <td>No</td>\n",
       "      <td>No</td>\n",
       "      <td>Fog</td>\n",
       "    </tr>\n",
       "  </tbody>\n",
       "</table>\n",
       "<p>5 rows × 24 columns</p>\n",
       "</div>"
      ],
      "text/plain": [
       "        Date Location  MinTemp  MaxTemp  Rainfall  Evaporation  Sunshine  \\\n",
       "0  12/1/2008   Albury     13.4     22.9       0.6          2.2       3.9   \n",
       "1  12/2/2008   Albury      7.4     25.1       0.0          2.2       3.9   \n",
       "2  12/3/2008   Albury     12.9     25.7       0.0          2.2       3.9   \n",
       "3  12/4/2008   Albury      9.2     28.0       0.0          2.2       3.9   \n",
       "4  12/5/2008   Albury     17.5     32.3       1.0          2.2       3.9   \n",
       "\n",
       "  WindGustDir  WindGustSpeed WindDir9am  ... Humidity3pm  Pressure9am  \\\n",
       "0           W           44.0          W  ...        22.0       1007.7   \n",
       "1         WNW           44.0        NNW  ...        25.0       1010.6   \n",
       "2         WSW           46.0          W  ...        30.0       1007.6   \n",
       "3          NE           24.0         SE  ...        16.0       1017.6   \n",
       "4           W           41.0        ENE  ...        33.0       1010.8   \n",
       "\n",
       "   Pressure3pm  Cloud9am  Cloud3pm  Temp9am  Temp3pm  RainToday  RainTomorrow  \\\n",
       "0       1007.1      8.00       8.0     16.9     21.8         No            No   \n",
       "1       1007.8      7.75       8.0     17.2     24.3         No            No   \n",
       "2       1008.7      7.50       2.0     21.0     23.2         No            No   \n",
       "3       1012.8      7.25       5.0     18.1     26.5         No            No   \n",
       "4       1006.0      7.00       8.0     17.8     29.7         No            No   \n",
       "\n",
       "                Weather  \n",
       "0                   Fog  \n",
       "1                   Fog  \n",
       "2  Freezing Drizzle,Fog  \n",
       "3  Freezing Drizzle,Fog  \n",
       "4                   Fog  \n",
       "\n",
       "[5 rows x 24 columns]"
      ]
     },
     "execution_count": 40,
     "metadata": {},
     "output_type": "execute_result"
    }
   ],
   "source": [
    "# <h1> Feature importance </h1>\n",
    "weather_data.head()"
   ]
  },
  {
   "cell_type": "code",
   "execution_count": 55,
   "id": "1fb19534-363c-496e-98c7-e4c9774bc633",
   "metadata": {},
   "outputs": [],
   "source": []
  },
  {
   "cell_type": "markdown",
   "id": "dfd5bc94-5550-4943-862e-e1ea8e1a91b0",
   "metadata": {},
   "source": [
    "<h1> Visualize feature importance of Random Forest model  </h1> "
   ]
  },
  {
   "cell_type": "code",
   "execution_count": 77,
   "id": "fe3b7fc4-df5d-463e-a4ba-bd1f4ca37287",
   "metadata": {},
   "outputs": [
    {
     "name": "stderr",
     "output_type": "stream",
     "text": [
      "C:\\Users\\GBU\\anaconda3\\Lib\\site-packages\\seaborn\\_oldcore.py:1765: FutureWarning: unique with argument that is not not a Series, Index, ExtensionArray, or np.ndarray is deprecated and will raise in a future version.\n",
      "  order = pd.unique(vector)\n"
     ]
    },
    {
     "data": {
      "image/png": "[encoded data removed]",
      "text/plain": [
       "<Figure size 1000x600 with 1 Axes>"
      ]
     },
     "metadata": {},
     "output_type": "display_data"
    }
   ],
   "source": [
    "feature_names = ['Location','MinTemp', 'MaxTemp', 'Rainfall', 'Evaporation', 'Sunshine', 'WindGustSpeed','WindDir9am','WindDir3pm','WindGustDir', 'WindSpeed9am','WindSpeed3pm','Humidity9am', 'Humidity3pm', 'Pressure9am', 'Pressure3pm', 'Cloud9am', 'Cloud3pm', 'Temp9am', 'Temp3pm', 'RainToday','Weather']\n",
    "len(feature_names)\n",
    "# Plot feature importance\n",
    "\n",
    "plt.figure(figsize=(10, 6))\n",
    "sns.barplot(x=rf_feature_importance,y=feature_names, orient='h')\n",
    "plt.xlabel('Feature Importance')\n",
    "plt.ylabel('Features')\n",
    "plt.title('Feature Importance Analysis')\n",
    "plt.show()"
   ]
  },
  {
   "cell_type": "markdown",
   "id": "198b19f0-37ed-4530-bb52-e8b477ffa2db",
   "metadata": {},
   "source": [
    "<h1> Visualize feature importance of Decistion Tree model </h1> "
   ]
  },
  {
   "cell_type": "code",
   "execution_count": 78,
   "id": "a4936d91-5ff5-438d-9d2c-a09d35fba5c2",
   "metadata": {},
   "outputs": [
    {
     "name": "stderr",
     "output_type": "stream",
     "text": [
      "C:\\Users\\GBU\\anaconda3\\Lib\\site-packages\\seaborn\\_oldcore.py:1765: FutureWarning: unique with argument that is not not a Series, Index, ExtensionArray, or np.ndarray is deprecated and will raise in a future version.\n",
      "  order = pd.unique(vector)\n"
     ]
    },
    {
     "data": {
      "image/png": "[encoded data removed]",
      "text/plain": [
       "<Figure size 1000x600 with 1 Axes>"
      ]
     },
     "metadata": {},
     "output_type": "display_data"
    }
   ],
   "source": [
    "# Plot feature importance\n",
    "\n",
    "plt.figure(figsize=(10, 6))\n",
    "sns.barplot(x=dt_feature_importance,y=feature_names, orient='h')\n",
    "plt.xlabel('Feature Importance')\n",
    "plt.ylabel('Features')\n",
    "plt.title('Feature Importance Analysis')\n",
    "plt.show()"
   ]
  },
  {
   "cell_type": "markdown",
   "id": "74696d0a-dc86-480a-9545-becdf032e757",
   "metadata": {},
   "source": [
    "<h1> Visualize feature importance of SVM model </h1> "
   ]
  },
  {
   "cell_type": "code",
   "execution_count": 79,
   "id": "3dceb718-7ecb-4b4d-9a39-4609aeb03611",
   "metadata": {},
   "outputs": [
    {
     "name": "stderr",
     "output_type": "stream",
     "text": [
      "C:\\Users\\GBU\\anaconda3\\Lib\\site-packages\\seaborn\\_oldcore.py:1765: FutureWarning: unique with argument that is not not a Series, Index, ExtensionArray, or np.ndarray is deprecated and will raise in a future version.\n",
      "  order = pd.unique(vector)\n"
     ]
    },
    {
     "data": {
      "image/png": "[encoded data removed]",
      "text/plain": [
       "<Figure size 1000x600 with 1 Axes>"
      ]
     },
     "metadata": {},
     "output_type": "display_data"
    }
   ],
   "source": [
    "# Plot feature importance\n",
    "\n",
    "plt.figure(figsize=(10, 6))\n",
    "sns.barplot(x=svm_feature_importance,y=feature_names, orient='h')\n",
    "plt.xlabel('Feature Importance')\n",
    "plt.ylabel('Features')\n",
    "plt.title('Feature Importance Analysis')\n",
    "plt.show()"
   ]
  },
  {
   "cell_type": "code",
   "execution_count": 97,
   "id": "ef47d522-da49-42c3-a509-aa0e1bec45b1",
   "metadata": {},
   "outputs": [
    {
     "data": {
      "text/html": [
       "<div>\n",
       "<style scoped>\n",
       "    .dataframe tbody tr th:only-of-type {\n",
       "        vertical-align: middle;\n",
       "    }\n",
       "\n",
       "    .dataframe tbody tr th {\n",
       "        vertical-align: top;\n",
       "    }\n",
       "\n",
       "    .dataframe thead th {\n",
       "        text-align: right;\n",
       "    }\n",
       "</style>\n",
       "<table border=\"1\" class=\"dataframe\">\n",
       "  <thead>\n",
       "    <tr style=\"text-align: right;\">\n",
       "      <th></th>\n",
       "      <th>Model</th>\n",
       "      <th>Accuracy</th>\n",
       "    </tr>\n",
       "  </thead>\n",
       "  <tbody>\n",
       "    <tr>\n",
       "      <th>0</th>\n",
       "      <td>DecisionTreeClassifier()</td>\n",
       "      <td>0.829625</td>\n",
       "    </tr>\n",
       "    <tr>\n",
       "      <th>1</th>\n",
       "      <td>(DecisionTreeClassifier(max_features='sqrt', r...</td>\n",
       "      <td>0.891291</td>\n",
       "    </tr>\n",
       "    <tr>\n",
       "      <th>2</th>\n",
       "      <td>SVC(kernel='linear')</td>\n",
       "      <td>0.877940</td>\n",
       "    </tr>\n",
       "  </tbody>\n",
       "</table>\n",
       "</div>"
      ],
      "text/plain": [
       "                                               Model  Accuracy\n",
       "0                           DecisionTreeClassifier()  0.829625\n",
       "1  (DecisionTreeClassifier(max_features='sqrt', r...  0.891291\n",
       "2                               SVC(kernel='linear')  0.877940"
      ]
     },
     "execution_count": 97,
     "metadata": {},
     "output_type": "execute_result"
    }
   ],
   "source": [
    "model_df = pd.DataFrame({'Model':model_list,'Accuracy':acc_list})\n",
    "model_df"
   ]
  },
  {
   "cell_type": "code",
   "execution_count": null,
   "id": "05bc6ea2-17ca-46c1-8687-6f7ce044dade",
   "metadata": {},
   "outputs": [],
   "source": []
  },
  {
   "cell_type": "markdown",
   "id": "485090cc-07fc-4b7c-a471-ff943d3fded3",
   "metadata": {},
   "source": [
    "<h1 style=\"color:blue\"> Completed </h1>"
   ]
  }
 ],
 "metadata": {
  "kernelspec": {
   "display_name": "Python 3 (ipykernel)",
   "language": "python",
   "name": "python3"
  },
  "language_info": {
   "codemirror_mode": {
    "name": "ipython",
    "version": 3
   },
   "file_extension": ".py",
   "mimetype": "text/x-python",
   "name": "python",
   "nbconvert_exporter": "python",
   "pygments_lexer": "ipython3",
   "version": "3.11.7"
  }
 },
 "nbformat": 4,
 "nbformat_minor": 5
}
